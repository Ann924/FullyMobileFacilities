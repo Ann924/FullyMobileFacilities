{
 "cells": [
  {
   "cell_type": "code",
   "execution_count": 1,
   "metadata": {},
   "outputs": [
    {
     "name": "stdout",
     "output_type": "stream",
     "text": [
      "3142 13039 517\n"
     ]
    }
   ],
   "source": [
    "from FullyMobile import data\n",
    "from FullyMobile.algorithm import *\n",
    "from FullyMobile.utils import *\n",
    "from FullyMobile import PROJECT_ROOT\n",
    "import json\n",
    "import os\n",
    "import time\n",
    "\n",
    "day = 5\n",
    "start = 6\n",
    "end = 20\n",
    "\n",
    "potential_facilities, location_directory, pid_assignment = data.get_data(\"charlottesville_city\", day, start, end)\n",
    "\n",
    "print(len(potential_facilities), len(location_directory), sum(len(val) for val in pid_assignment.values()))"
   ]
  },
  {
   "cell_type": "code",
   "execution_count": null,
   "metadata": {},
   "outputs": [],
   "source": [
    "maxdst = 0\n",
    "for key, val in location_directory.items():\n",
    "    for key2, val2 in location_directory.items():\n",
    "        coord1 = (val[\"latitude\"], val[\"longitude\"])\n",
    "        coord2 = (val2[\"latitude\"], val2[\"longitude\"])\n",
    "        dst = calculate_dist(coord1, coord2)\n",
    "        if dst>maxdst:\n",
    "            maxdst = dst\n",
    "print(maxdst)"
   ]
  },
  {
   "cell_type": "code",
   "execution_count": 3,
   "metadata": {},
   "outputs": [],
   "source": [
    "m = 5\n",
    "k_facs = 5\n",
    "\n",
    "if os.path.exists(PROJECT_ROOT/f\"reachable_{m}.json\"):\n",
    "    with open(PROJECT_ROOT/f\"reachable_{m}.json\") as f:\n",
    "        reachable_dict = {int(k): v for k, v in json.load(f).items()}\n",
    "else:\n",
    "    reachable_dict = calculate_reachable(potential_facilities, location_directory, 5)\n",
    "    with open(PROJECT_ROOT/f\"reachable_{m}.json\", \"w\") as f:\n",
    "        json.dump(reachable_dict, f)\n"
   ]
  },
  {
   "cell_type": "code",
   "execution_count": 4,
   "metadata": {},
   "outputs": [
    {
     "name": "stdout",
     "output_type": "stream",
     "text": [
      "TOTAL CLIENTS:  517\n"
     ]
    },
    {
     "name": "stderr",
     "output_type": "stream",
     "text": [
      "exception calling callback for <Future at 0x7f325f11ca30 state=finished raised BrokenProcessPool>\n",
      "joblib.externals.loky.process_executor._RemoteTraceback: \n",
      "\"\"\"\n",
      "Traceback (most recent call last):\n",
      "  File \"/home/al7gc/.conda/envs/fullymobile/lib/python3.10/site-packages/joblib/externals/loky/process_executor.py\", line 391, in _process_worker\n",
      "    call_item = call_queue.get(block=True, timeout=timeout)\n",
      "  File \"/home/al7gc/.conda/envs/fullymobile/lib/python3.10/multiprocessing/queues.py\", line 122, in get\n",
      "    return _ForkingPickler.loads(res)\n",
      "AttributeError: Can't get attribute 'reachable_helper' on <module 'FullyMobile.algorithm' from '/sfs/qumulo/qhome/al7gc/FullyMobileFacilities/FullyMobile/algorithm.py'>\n",
      "\"\"\"\n",
      "\n",
      "The above exception was the direct cause of the following exception:\n",
      "\n",
      "Traceback (most recent call last):\n",
      "  File \"/home/al7gc/.conda/envs/fullymobile/lib/python3.10/site-packages/joblib/externals/loky/_base.py\", line 26, in _invoke_callbacks\n",
      "    callback(self)\n",
      "  File \"/home/al7gc/.conda/envs/fullymobile/lib/python3.10/site-packages/joblib/parallel.py\", line 385, in __call__\n",
      "    self.parallel.dispatch_next()\n",
      "  File \"/home/al7gc/.conda/envs/fullymobile/lib/python3.10/site-packages/joblib/parallel.py\", line 834, in dispatch_next\n",
      "    if not self.dispatch_one_batch(self._original_iterator):\n",
      "  File \"/home/al7gc/.conda/envs/fullymobile/lib/python3.10/site-packages/joblib/parallel.py\", line 901, in dispatch_one_batch\n",
      "    self._dispatch(tasks)\n",
      "  File \"/home/al7gc/.conda/envs/fullymobile/lib/python3.10/site-packages/joblib/parallel.py\", line 819, in _dispatch\n",
      "    job = self._backend.apply_async(batch, callback=cb)\n",
      "  File \"/home/al7gc/.conda/envs/fullymobile/lib/python3.10/site-packages/joblib/_parallel_backends.py\", line 556, in apply_async\n",
      "    future = self._workers.submit(SafeFunction(func))\n",
      "  File \"/home/al7gc/.conda/envs/fullymobile/lib/python3.10/site-packages/joblib/externals/loky/reusable_executor.py\", line 176, in submit\n",
      "    return super().submit(fn, *args, **kwargs)\n",
      "  File \"/home/al7gc/.conda/envs/fullymobile/lib/python3.10/site-packages/joblib/externals/loky/process_executor.py\", line 1129, in submit\n",
      "    raise self._flags.broken\n",
      "joblib.externals.loky.process_executor.BrokenProcessPool: A task has failed to un-serialize. Please ensure that the arguments of the function are all picklable.\n"
     ]
    },
    {
     "ename": "BrokenProcessPool",
     "evalue": "A task has failed to un-serialize. Please ensure that the arguments of the function are all picklable.",
     "output_type": "error",
     "traceback": [
      "\u001b[0;31m---------------------------------------------------------------------------\u001b[0m",
      "\u001b[0;31m_RemoteTraceback\u001b[0m                          Traceback (most recent call last)",
      "\u001b[0;31m_RemoteTraceback\u001b[0m: \n\"\"\"\nTraceback (most recent call last):\n  File \"/home/al7gc/.conda/envs/fullymobile/lib/python3.10/site-packages/joblib/externals/loky/process_executor.py\", line 391, in _process_worker\n    call_item = call_queue.get(block=True, timeout=timeout)\n  File \"/home/al7gc/.conda/envs/fullymobile/lib/python3.10/multiprocessing/queues.py\", line 122, in get\n    return _ForkingPickler.loads(res)\nAttributeError: Can't get attribute 'reachable_helper' on <module 'FullyMobile.algorithm' from '/sfs/qumulo/qhome/al7gc/FullyMobileFacilities/FullyMobile/algorithm.py'>\n\"\"\"",
      "\nThe above exception was the direct cause of the following exception:\n",
      "\u001b[0;31mBrokenProcessPool\u001b[0m                         Traceback (most recent call last)",
      "Input \u001b[0;32mIn [4]\u001b[0m, in \u001b[0;36m<cell line: 2>\u001b[0;34m()\u001b[0m\n\u001b[1;32m      1\u001b[0m start \u001b[38;5;241m=\u001b[39m time\u001b[38;5;241m.\u001b[39mtime()\n\u001b[0;32m----> 2\u001b[0m opt_radius, radius_paths \u001b[38;5;241m=\u001b[39m \u001b[43mcover_fac_binary\u001b[49m\u001b[43m(\u001b[49m\u001b[43mpotential_facilities\u001b[49m\u001b[43m,\u001b[49m\u001b[43m \u001b[49m\u001b[43mlocation_directory\u001b[49m\u001b[43m,\u001b[49m\u001b[43m \u001b[49m\u001b[43mpid_assignment\u001b[49m\u001b[43m,\u001b[49m\u001b[43m \u001b[49m\u001b[43mm\u001b[49m\u001b[43m,\u001b[49m\u001b[43m \u001b[49m\u001b[43mk_facs\u001b[49m\u001b[43m,\u001b[49m\u001b[43m \u001b[49m\u001b[43mlower_limit\u001b[49m\u001b[43m \u001b[49m\u001b[38;5;241;43m=\u001b[39;49m\u001b[43m \u001b[49m\u001b[38;5;241;43m0.5\u001b[39;49m\u001b[43m,\u001b[49m\u001b[43m \u001b[49m\u001b[43mupper_limit\u001b[49m\u001b[43m \u001b[49m\u001b[38;5;241;43m=\u001b[39;49m\u001b[43m \u001b[49m\u001b[38;5;241;43m3\u001b[39;49m\u001b[43m,\u001b[49m\u001b[43m \u001b[49m\u001b[43mn_jobs\u001b[49m\u001b[43m \u001b[49m\u001b[38;5;241;43m=\u001b[39;49m\u001b[43m \u001b[49m\u001b[38;5;241;43m40\u001b[39;49m\u001b[43m)\u001b[49m\n\u001b[1;32m      3\u001b[0m end \u001b[38;5;241m=\u001b[39m time\u001b[38;5;241m.\u001b[39mtime()\n\u001b[1;32m      5\u001b[0m \u001b[38;5;28mprint\u001b[39m(end\u001b[38;5;241m-\u001b[39mstart)\n",
      "File \u001b[0;32m/sfs/qumulo/qhome/al7gc/FullyMobileFacilities/FullyMobile/algorithm.py:192\u001b[0m, in \u001b[0;36mcover_fac_binary\u001b[0;34m(potential_facilities, location_directory, pid_assignment, m, k_facs, lower_limit, upper_limit, n_jobs)\u001b[0m\n\u001b[1;32m    131\u001b[0m     \u001b[38;5;28;01mreturn\u001b[39;00m opt_radius, radius_paths\n\u001b[1;32m    133\u001b[0m \u001b[38;5;66;03m########################## UNUSED ALGORITHMS #################################\u001b[39;00m\n\u001b[1;32m    134\u001b[0m \n\u001b[1;32m    135\u001b[0m \u001b[38;5;66;03m### Binary Search ###\u001b[39;00m\n\u001b[1;32m    136\u001b[0m \u001b[38;5;124;03m\"\"\"\u001b[39;00m\n\u001b[1;32m    137\u001b[0m \u001b[38;5;124;03mdef cover_fac_parallel_r(potential_facilities, location_directory, pid_assignment, reachable_dict, k_facs, radius, n_jobs=40):\u001b[39;00m\n\u001b[1;32m    138\u001b[0m \u001b[38;5;124;03m    \u001b[39;00m\n\u001b[1;32m    139\u001b[0m \u001b[38;5;124;03m    paths = []\u001b[39;00m\n\u001b[1;32m    140\u001b[0m \u001b[38;5;124;03m    total_coverage = 0\u001b[39;00m\n\u001b[1;32m    141\u001b[0m \u001b[38;5;124;03m    \u001b[39;00m\n\u001b[1;32m    142\u001b[0m \u001b[38;5;124;03m    START_OFFSET = min(pid_assignment.keys())\u001b[39;00m\n\u001b[1;32m    143\u001b[0m \u001b[38;5;124;03m    END_TIME = max(pid_assignment.keys())\u001b[39;00m\n\u001b[1;32m    144\u001b[0m \u001b[38;5;124;03m    \u001b[39;00m\n\u001b[1;32m    145\u001b[0m \u001b[38;5;124;03m    dp = {START_OFFSET-1: {pf: {\"count\": 0, \"path\": []} for pf in potential_facilities}}\u001b[39;00m\n\u001b[1;32m    146\u001b[0m \u001b[38;5;124;03m    fac_client = {}\u001b[39;00m\n\u001b[1;32m    147\u001b[0m \n\u001b[1;32m    148\u001b[0m \u001b[38;5;124;03m    for k in tqdm.tqdm(range(0, k_facs)):\u001b[39;00m\n\u001b[1;32m    149\u001b[0m \u001b[38;5;124;03m        \u001b[39;00m\n\u001b[1;32m    150\u001b[0m \u001b[38;5;124;03m        for hr in range(START_OFFSET, END_TIME+1):\u001b[39;00m\n\u001b[1;32m    151\u001b[0m \u001b[38;5;124;03m            \u001b[39;00m\n\u001b[1;32m    152\u001b[0m \u001b[38;5;124;03m            dp[hr] = {}\u001b[39;00m\n\u001b[1;32m    153\u001b[0m \u001b[38;5;124;03m            loc_assignments = pid_assignment[hr]\u001b[39;00m\n\u001b[1;32m    154\u001b[0m \u001b[38;5;124;03m            \u001b[39;00m\n\u001b[1;32m    155\u001b[0m \u001b[38;5;124;03m            if k==0:\u001b[39;00m\n\u001b[1;32m    156\u001b[0m \u001b[38;5;124;03m                results = Parallel(n_jobs=n_jobs)(delayed(initialize_timestep)\u001b[39;00m\n\u001b[1;32m    157\u001b[0m \u001b[38;5;124;03m                                            (pf, [r for r in reachable_dict[pf] if r in location_directory.keys()],\u001b[39;00m\n\u001b[1;32m    158\u001b[0m \u001b[38;5;124;03m                                             loc_assignments, location_directory, radius)\u001b[39;00m\n\u001b[1;32m    159\u001b[0m \u001b[38;5;124;03m                                                 for pf in potential_facilities)\u001b[39;00m\n\u001b[1;32m    160\u001b[0m \u001b[38;5;124;03m                fac_client[hr] = {fac: {\"count\": count, \"coverage\": coverage} for fac, count, coverage in results}\u001b[39;00m\n\u001b[1;32m    161\u001b[0m \n\u001b[1;32m    162\u001b[0m \u001b[38;5;124;03m            chosen_max = Parallel(n_jobs=n_jobs)(delayed(fill_timestep)(pf, [r for r in reachable_dict[pf] if r in location_directory.keys()], loc_assignments, dp[hr-1])\u001b[39;00m\n\u001b[1;32m    163\u001b[0m \u001b[38;5;124;03m                                            for pf in potential_facilities)\u001b[39;00m\n\u001b[1;32m    164\u001b[0m \u001b[38;5;124;03m            \u001b[39;00m\n\u001b[1;32m    165\u001b[0m \u001b[38;5;124;03m            for pf, max_count, max_path in chosen_max:\u001b[39;00m\n\u001b[1;32m    166\u001b[0m \u001b[38;5;124;03m                dp[hr][pf] = {\"count\":max_count + fac_client[hr][pf][\"count\"],\u001b[39;00m\n\u001b[1;32m    167\u001b[0m \u001b[38;5;124;03m                                 \"path\": max_path + [pf]}\u001b[39;00m\n\u001b[1;32m    168\u001b[0m \n\u001b[1;32m    169\u001b[0m \u001b[38;5;124;03m        best_count, best_path = max([(dp[hr][fac][\"count\"],\u001b[39;00m\n\u001b[1;32m    170\u001b[0m \u001b[38;5;124;03m                                      dp[hr][fac][\"path\"]) for fac in potential_facilities])\u001b[39;00m\n\u001b[1;32m    171\u001b[0m \u001b[38;5;124;03m        paths.append(best_path)\u001b[39;00m\n\u001b[1;32m    172\u001b[0m \n\u001b[1;32m    173\u001b[0m \u001b[38;5;124;03m        for i, fac in enumerate(best_path):\u001b[39;00m\n\u001b[1;32m    174\u001b[0m \u001b[38;5;124;03m            \u001b[39;00m\n\u001b[1;32m    175\u001b[0m \u001b[38;5;124;03m            h = i + START_OFFSET\u001b[39;00m\n\u001b[1;32m    176\u001b[0m \u001b[38;5;124;03m            \u001b[39;00m\n\u001b[1;32m    177\u001b[0m \u001b[38;5;124;03m            covered_clients = fac_client[h][fac][\"coverage\"]\u001b[39;00m\n\u001b[1;32m    178\u001b[0m \u001b[38;5;124;03m            #print(fac, len(covered_clients))\u001b[39;00m\n\u001b[1;32m    179\u001b[0m \u001b[38;5;124;03m            \u001b[39;00m\n\u001b[1;32m    180\u001b[0m \u001b[38;5;124;03m            for pf in potential_facilities:\u001b[39;00m\n\u001b[1;32m    181\u001b[0m \u001b[38;5;124;03m                fac_client[h][pf][\"coverage\"] = fac_client[h][pf][\"coverage\"].difference(covered_clients)\u001b[39;00m\n\u001b[1;32m    182\u001b[0m \u001b[38;5;124;03m                fac_client[h][pf][\"count\"] = len(fac_client[h][pf][\"coverage\"])\u001b[39;00m\n\u001b[1;32m    183\u001b[0m \u001b[38;5;124;03m            \u001b[39;00m\n\u001b[1;32m    184\u001b[0m \u001b[38;5;124;03m            fac_client[h][fac][\"coverage\"] = set()\u001b[39;00m\n\u001b[1;32m    185\u001b[0m \u001b[38;5;124;03m            fac_client[h][fac][\"count\"] = 0\u001b[39;00m\n\u001b[1;32m    186\u001b[0m \u001b[38;5;124;03m        \u001b[39;00m\n\u001b[1;32m    187\u001b[0m \u001b[38;5;124;03m        print(best_count, best_path)\u001b[39;00m\n\u001b[1;32m    188\u001b[0m \u001b[38;5;124;03m        \u001b[39;00m\n\u001b[1;32m    189\u001b[0m \u001b[38;5;124;03m        total_coverage += best_count\u001b[39;00m\n\u001b[1;32m    190\u001b[0m \u001b[38;5;124;03m    \u001b[39;00m\n\u001b[1;32m    191\u001b[0m \u001b[38;5;124;03m    return total_coverage, paths\u001b[39;00m\n\u001b[0;32m--> 192\u001b[0m \u001b[38;5;124;03m\"\"\"\u001b[39;00m\n\u001b[1;32m    194\u001b[0m \u001b[38;5;124;03m\"\"\"\u001b[39;00m\n\u001b[1;32m    195\u001b[0m \n\u001b[1;32m    196\u001b[0m \u001b[38;5;124;03mdef cover_fac_binary(potential_facilities, location_directory, pid_assignment, m, k_facs, lower_limit = 0.5, upper_limit = 3, n_jobs=40):\u001b[39;00m\n\u001b[0;32m   (...)\u001b[0m\n\u001b[1;32m    227\u001b[0m \u001b[38;5;124;03m    return opt_radius, radius_paths\u001b[39;00m\n\u001b[1;32m    228\u001b[0m \u001b[38;5;124;03m\"\"\"\u001b[39;00m\n",
      "File \u001b[0;32m/sfs/qumulo/qhome/al7gc/FullyMobileFacilities/FullyMobile/algorithm.py:171\u001b[0m, in \u001b[0;36mcalculate_reachable\u001b[0;34m(potential_facilities, location_directory, m, n_jobs)\u001b[0m\n\u001b[1;32m    131\u001b[0m     \u001b[38;5;28;01mreturn\u001b[39;00m opt_radius, radius_paths\n\u001b[1;32m    133\u001b[0m \u001b[38;5;66;03m########################## UNUSED ALGORITHMS #################################\u001b[39;00m\n\u001b[1;32m    134\u001b[0m \n\u001b[1;32m    135\u001b[0m \u001b[38;5;66;03m### Binary Search ###\u001b[39;00m\n\u001b[1;32m    136\u001b[0m \u001b[38;5;124;03m\"\"\"\u001b[39;00m\n\u001b[1;32m    137\u001b[0m \u001b[38;5;124;03mdef cover_fac_parallel_r(potential_facilities, location_directory, pid_assignment, reachable_dict, k_facs, radius, n_jobs=40):\u001b[39;00m\n\u001b[1;32m    138\u001b[0m \u001b[38;5;124;03m    \u001b[39;00m\n\u001b[1;32m    139\u001b[0m \u001b[38;5;124;03m    paths = []\u001b[39;00m\n\u001b[1;32m    140\u001b[0m \u001b[38;5;124;03m    total_coverage = 0\u001b[39;00m\n\u001b[1;32m    141\u001b[0m \u001b[38;5;124;03m    \u001b[39;00m\n\u001b[1;32m    142\u001b[0m \u001b[38;5;124;03m    START_OFFSET = min(pid_assignment.keys())\u001b[39;00m\n\u001b[1;32m    143\u001b[0m \u001b[38;5;124;03m    END_TIME = max(pid_assignment.keys())\u001b[39;00m\n\u001b[1;32m    144\u001b[0m \u001b[38;5;124;03m    \u001b[39;00m\n\u001b[1;32m    145\u001b[0m \u001b[38;5;124;03m    dp = {START_OFFSET-1: {pf: {\"count\": 0, \"path\": []} for pf in potential_facilities}}\u001b[39;00m\n\u001b[1;32m    146\u001b[0m \u001b[38;5;124;03m    fac_client = {}\u001b[39;00m\n\u001b[1;32m    147\u001b[0m \n\u001b[1;32m    148\u001b[0m \u001b[38;5;124;03m    for k in tqdm.tqdm(range(0, k_facs)):\u001b[39;00m\n\u001b[1;32m    149\u001b[0m \u001b[38;5;124;03m        \u001b[39;00m\n\u001b[1;32m    150\u001b[0m \u001b[38;5;124;03m        for hr in range(START_OFFSET, END_TIME+1):\u001b[39;00m\n\u001b[1;32m    151\u001b[0m \u001b[38;5;124;03m            \u001b[39;00m\n\u001b[1;32m    152\u001b[0m \u001b[38;5;124;03m            dp[hr] = {}\u001b[39;00m\n\u001b[1;32m    153\u001b[0m \u001b[38;5;124;03m            loc_assignments = pid_assignment[hr]\u001b[39;00m\n\u001b[1;32m    154\u001b[0m \u001b[38;5;124;03m            \u001b[39;00m\n\u001b[1;32m    155\u001b[0m \u001b[38;5;124;03m            if k==0:\u001b[39;00m\n\u001b[1;32m    156\u001b[0m \u001b[38;5;124;03m                results = Parallel(n_jobs=n_jobs)(delayed(initialize_timestep)\u001b[39;00m\n\u001b[1;32m    157\u001b[0m \u001b[38;5;124;03m                                            (pf, [r for r in reachable_dict[pf] if r in location_directory.keys()],\u001b[39;00m\n\u001b[1;32m    158\u001b[0m \u001b[38;5;124;03m                                             loc_assignments, location_directory, radius)\u001b[39;00m\n\u001b[1;32m    159\u001b[0m \u001b[38;5;124;03m                                                 for pf in potential_facilities)\u001b[39;00m\n\u001b[1;32m    160\u001b[0m \u001b[38;5;124;03m                fac_client[hr] = {fac: {\"count\": count, \"coverage\": coverage} for fac, count, coverage in results}\u001b[39;00m\n\u001b[1;32m    161\u001b[0m \n\u001b[1;32m    162\u001b[0m \u001b[38;5;124;03m            chosen_max = Parallel(n_jobs=n_jobs)(delayed(fill_timestep)(pf, [r for r in reachable_dict[pf] if r in location_directory.keys()], loc_assignments, dp[hr-1])\u001b[39;00m\n\u001b[1;32m    163\u001b[0m \u001b[38;5;124;03m                                            for pf in potential_facilities)\u001b[39;00m\n\u001b[1;32m    164\u001b[0m \u001b[38;5;124;03m            \u001b[39;00m\n\u001b[1;32m    165\u001b[0m \u001b[38;5;124;03m            for pf, max_count, max_path in chosen_max:\u001b[39;00m\n\u001b[1;32m    166\u001b[0m \u001b[38;5;124;03m                dp[hr][pf] = {\"count\":max_count + fac_client[hr][pf][\"count\"],\u001b[39;00m\n\u001b[1;32m    167\u001b[0m \u001b[38;5;124;03m                                 \"path\": max_path + [pf]}\u001b[39;00m\n\u001b[1;32m    168\u001b[0m \n\u001b[1;32m    169\u001b[0m \u001b[38;5;124;03m        best_count, best_path = max([(dp[hr][fac][\"count\"],\u001b[39;00m\n\u001b[1;32m    170\u001b[0m \u001b[38;5;124;03m                                      dp[hr][fac][\"path\"]) for fac in potential_facilities])\u001b[39;00m\n\u001b[0;32m--> 171\u001b[0m \u001b[38;5;124;03m        paths.append(best_path)\u001b[39;00m\n\u001b[1;32m    172\u001b[0m \n\u001b[1;32m    173\u001b[0m \u001b[38;5;124;03m        for i, fac in enumerate(best_path):\u001b[39;00m\n\u001b[1;32m    174\u001b[0m \u001b[38;5;124;03m            \u001b[39;00m\n\u001b[1;32m    175\u001b[0m \u001b[38;5;124;03m            h = i + START_OFFSET\u001b[39;00m\n\u001b[1;32m    176\u001b[0m \u001b[38;5;124;03m            \u001b[39;00m\n\u001b[1;32m    177\u001b[0m \u001b[38;5;124;03m            covered_clients = fac_client[h][fac][\"coverage\"]\u001b[39;00m\n\u001b[1;32m    178\u001b[0m \u001b[38;5;124;03m            #print(fac, len(covered_clients))\u001b[39;00m\n\u001b[1;32m    179\u001b[0m \u001b[38;5;124;03m            \u001b[39;00m\n\u001b[1;32m    180\u001b[0m \u001b[38;5;124;03m            for pf in potential_facilities:\u001b[39;00m\n\u001b[1;32m    181\u001b[0m \u001b[38;5;124;03m                fac_client[h][pf][\"coverage\"] = fac_client[h][pf][\"coverage\"].difference(covered_clients)\u001b[39;00m\n\u001b[1;32m    182\u001b[0m \u001b[38;5;124;03m                fac_client[h][pf][\"count\"] = len(fac_client[h][pf][\"coverage\"])\u001b[39;00m\n\u001b[1;32m    183\u001b[0m \u001b[38;5;124;03m            \u001b[39;00m\n\u001b[1;32m    184\u001b[0m \u001b[38;5;124;03m            fac_client[h][fac][\"coverage\"] = set()\u001b[39;00m\n\u001b[1;32m    185\u001b[0m \u001b[38;5;124;03m            fac_client[h][fac][\"count\"] = 0\u001b[39;00m\n\u001b[1;32m    186\u001b[0m \u001b[38;5;124;03m        \u001b[39;00m\n\u001b[1;32m    187\u001b[0m \u001b[38;5;124;03m        print(best_count, best_path)\u001b[39;00m\n\u001b[1;32m    188\u001b[0m \u001b[38;5;124;03m        \u001b[39;00m\n\u001b[1;32m    189\u001b[0m \u001b[38;5;124;03m        total_coverage += best_count\u001b[39;00m\n\u001b[1;32m    190\u001b[0m \u001b[38;5;124;03m    \u001b[39;00m\n\u001b[1;32m    191\u001b[0m \u001b[38;5;124;03m    return total_coverage, paths\u001b[39;00m\n\u001b[1;32m    192\u001b[0m \u001b[38;5;124;03m\"\"\"\u001b[39;00m\n\u001b[1;32m    194\u001b[0m \u001b[38;5;124;03m\"\"\"\u001b[39;00m\n\u001b[1;32m    195\u001b[0m \n\u001b[1;32m    196\u001b[0m \u001b[38;5;124;03mdef cover_fac_binary(potential_facilities, location_directory, pid_assignment, m, k_facs, lower_limit = 0.5, upper_limit = 3, n_jobs=40):\u001b[39;00m\n\u001b[0;32m   (...)\u001b[0m\n\u001b[1;32m    227\u001b[0m \u001b[38;5;124;03m    return opt_radius, radius_paths\u001b[39;00m\n\u001b[1;32m    228\u001b[0m \u001b[38;5;124;03m\"\"\"\u001b[39;00m\n",
      "File \u001b[0;32m~/.conda/envs/fullymobile/lib/python3.10/site-packages/joblib/parallel.py:1098\u001b[0m, in \u001b[0;36mParallel.__call__\u001b[0;34m(self, iterable)\u001b[0m\n\u001b[1;32m   1095\u001b[0m     \u001b[38;5;28mself\u001b[39m\u001b[38;5;241m.\u001b[39m_iterating \u001b[38;5;241m=\u001b[39m \u001b[38;5;28;01mFalse\u001b[39;00m\n\u001b[1;32m   1097\u001b[0m \u001b[38;5;28;01mwith\u001b[39;00m \u001b[38;5;28mself\u001b[39m\u001b[38;5;241m.\u001b[39m_backend\u001b[38;5;241m.\u001b[39mretrieval_context():\n\u001b[0;32m-> 1098\u001b[0m     \u001b[38;5;28;43mself\u001b[39;49m\u001b[38;5;241;43m.\u001b[39;49m\u001b[43mretrieve\u001b[49m\u001b[43m(\u001b[49m\u001b[43m)\u001b[49m\n\u001b[1;32m   1099\u001b[0m \u001b[38;5;66;03m# Make sure that we get a last message telling us we are done\u001b[39;00m\n\u001b[1;32m   1100\u001b[0m elapsed_time \u001b[38;5;241m=\u001b[39m time\u001b[38;5;241m.\u001b[39mtime() \u001b[38;5;241m-\u001b[39m \u001b[38;5;28mself\u001b[39m\u001b[38;5;241m.\u001b[39m_start_time\n",
      "File \u001b[0;32m~/.conda/envs/fullymobile/lib/python3.10/site-packages/joblib/parallel.py:975\u001b[0m, in \u001b[0;36mParallel.retrieve\u001b[0;34m(self)\u001b[0m\n\u001b[1;32m    973\u001b[0m \u001b[38;5;28;01mtry\u001b[39;00m:\n\u001b[1;32m    974\u001b[0m     \u001b[38;5;28;01mif\u001b[39;00m \u001b[38;5;28mgetattr\u001b[39m(\u001b[38;5;28mself\u001b[39m\u001b[38;5;241m.\u001b[39m_backend, \u001b[38;5;124m'\u001b[39m\u001b[38;5;124msupports_timeout\u001b[39m\u001b[38;5;124m'\u001b[39m, \u001b[38;5;28;01mFalse\u001b[39;00m):\n\u001b[0;32m--> 975\u001b[0m         \u001b[38;5;28mself\u001b[39m\u001b[38;5;241m.\u001b[39m_output\u001b[38;5;241m.\u001b[39mextend(\u001b[43mjob\u001b[49m\u001b[38;5;241;43m.\u001b[39;49m\u001b[43mget\u001b[49m\u001b[43m(\u001b[49m\u001b[43mtimeout\u001b[49m\u001b[38;5;241;43m=\u001b[39;49m\u001b[38;5;28;43mself\u001b[39;49m\u001b[38;5;241;43m.\u001b[39;49m\u001b[43mtimeout\u001b[49m\u001b[43m)\u001b[49m)\n\u001b[1;32m    976\u001b[0m     \u001b[38;5;28;01melse\u001b[39;00m:\n\u001b[1;32m    977\u001b[0m         \u001b[38;5;28mself\u001b[39m\u001b[38;5;241m.\u001b[39m_output\u001b[38;5;241m.\u001b[39mextend(job\u001b[38;5;241m.\u001b[39mget())\n",
      "File \u001b[0;32m~/.conda/envs/fullymobile/lib/python3.10/site-packages/joblib/_parallel_backends.py:567\u001b[0m, in \u001b[0;36mLokyBackend.wrap_future_result\u001b[0;34m(future, timeout)\u001b[0m\n\u001b[1;32m    564\u001b[0m \u001b[38;5;124;03m\"\"\"Wrapper for Future.result to implement the same behaviour as\u001b[39;00m\n\u001b[1;32m    565\u001b[0m \u001b[38;5;124;03mAsyncResults.get from multiprocessing.\"\"\"\u001b[39;00m\n\u001b[1;32m    566\u001b[0m \u001b[38;5;28;01mtry\u001b[39;00m:\n\u001b[0;32m--> 567\u001b[0m     \u001b[38;5;28;01mreturn\u001b[39;00m \u001b[43mfuture\u001b[49m\u001b[38;5;241;43m.\u001b[39;49m\u001b[43mresult\u001b[49m\u001b[43m(\u001b[49m\u001b[43mtimeout\u001b[49m\u001b[38;5;241;43m=\u001b[39;49m\u001b[43mtimeout\u001b[49m\u001b[43m)\u001b[49m\n\u001b[1;32m    568\u001b[0m \u001b[38;5;28;01mexcept\u001b[39;00m CfTimeoutError \u001b[38;5;28;01mas\u001b[39;00m e:\n\u001b[1;32m    569\u001b[0m     \u001b[38;5;28;01mraise\u001b[39;00m \u001b[38;5;167;01mTimeoutError\u001b[39;00m \u001b[38;5;28;01mfrom\u001b[39;00m \u001b[38;5;21;01me\u001b[39;00m\n",
      "File \u001b[0;32m~/.conda/envs/fullymobile/lib/python3.10/concurrent/futures/_base.py:446\u001b[0m, in \u001b[0;36mFuture.result\u001b[0;34m(self, timeout)\u001b[0m\n\u001b[1;32m    444\u001b[0m     \u001b[38;5;28;01mraise\u001b[39;00m CancelledError()\n\u001b[1;32m    445\u001b[0m \u001b[38;5;28;01melif\u001b[39;00m \u001b[38;5;28mself\u001b[39m\u001b[38;5;241m.\u001b[39m_state \u001b[38;5;241m==\u001b[39m FINISHED:\n\u001b[0;32m--> 446\u001b[0m     \u001b[38;5;28;01mreturn\u001b[39;00m \u001b[38;5;28;43mself\u001b[39;49m\u001b[38;5;241;43m.\u001b[39;49m\u001b[43m__get_result\u001b[49m\u001b[43m(\u001b[49m\u001b[43m)\u001b[49m\n\u001b[1;32m    447\u001b[0m \u001b[38;5;28;01melse\u001b[39;00m:\n\u001b[1;32m    448\u001b[0m     \u001b[38;5;28;01mraise\u001b[39;00m \u001b[38;5;167;01mTimeoutError\u001b[39;00m()\n",
      "File \u001b[0;32m~/.conda/envs/fullymobile/lib/python3.10/concurrent/futures/_base.py:391\u001b[0m, in \u001b[0;36mFuture.__get_result\u001b[0;34m(self)\u001b[0m\n\u001b[1;32m    389\u001b[0m \u001b[38;5;28;01mif\u001b[39;00m \u001b[38;5;28mself\u001b[39m\u001b[38;5;241m.\u001b[39m_exception:\n\u001b[1;32m    390\u001b[0m     \u001b[38;5;28;01mtry\u001b[39;00m:\n\u001b[0;32m--> 391\u001b[0m         \u001b[38;5;28;01mraise\u001b[39;00m \u001b[38;5;28mself\u001b[39m\u001b[38;5;241m.\u001b[39m_exception\n\u001b[1;32m    392\u001b[0m     \u001b[38;5;28;01mfinally\u001b[39;00m:\n\u001b[1;32m    393\u001b[0m         \u001b[38;5;66;03m# Break a reference cycle with the exception in self._exception\u001b[39;00m\n\u001b[1;32m    394\u001b[0m         \u001b[38;5;28mself\u001b[39m \u001b[38;5;241m=\u001b[39m \u001b[38;5;28;01mNone\u001b[39;00m\n",
      "File \u001b[0;32m~/.conda/envs/fullymobile/lib/python3.10/site-packages/joblib/externals/loky/_base.py:26\u001b[0m, in \u001b[0;36mFuture._invoke_callbacks\u001b[0;34m(self)\u001b[0m\n\u001b[1;32m     24\u001b[0m \u001b[38;5;28;01mfor\u001b[39;00m callback \u001b[38;5;129;01min\u001b[39;00m \u001b[38;5;28mself\u001b[39m\u001b[38;5;241m.\u001b[39m_done_callbacks:\n\u001b[1;32m     25\u001b[0m     \u001b[38;5;28;01mtry\u001b[39;00m:\n\u001b[0;32m---> 26\u001b[0m         \u001b[43mcallback\u001b[49m\u001b[43m(\u001b[49m\u001b[38;5;28;43mself\u001b[39;49m\u001b[43m)\u001b[49m\n\u001b[1;32m     27\u001b[0m     \u001b[38;5;28;01mexcept\u001b[39;00m \u001b[38;5;167;01mBaseException\u001b[39;00m:\n\u001b[1;32m     28\u001b[0m         LOGGER\u001b[38;5;241m.\u001b[39mexception(\u001b[38;5;124mf\u001b[39m\u001b[38;5;124m'\u001b[39m\u001b[38;5;124mexception calling callback for \u001b[39m\u001b[38;5;132;01m{\u001b[39;00m\u001b[38;5;28mself\u001b[39m\u001b[38;5;132;01m!r}\u001b[39;00m\u001b[38;5;124m'\u001b[39m)\n",
      "File \u001b[0;32m~/.conda/envs/fullymobile/lib/python3.10/site-packages/joblib/parallel.py:385\u001b[0m, in \u001b[0;36mBatchCompletionCallBack.__call__\u001b[0;34m(self, out)\u001b[0m\n\u001b[1;32m    383\u001b[0m \u001b[38;5;28;01mwith\u001b[39;00m \u001b[38;5;28mself\u001b[39m\u001b[38;5;241m.\u001b[39mparallel\u001b[38;5;241m.\u001b[39m_lock:\n\u001b[1;32m    384\u001b[0m     \u001b[38;5;28;01mif\u001b[39;00m \u001b[38;5;28mself\u001b[39m\u001b[38;5;241m.\u001b[39mparallel\u001b[38;5;241m.\u001b[39m_original_iterator \u001b[38;5;129;01mis\u001b[39;00m \u001b[38;5;129;01mnot\u001b[39;00m \u001b[38;5;28;01mNone\u001b[39;00m:\n\u001b[0;32m--> 385\u001b[0m         \u001b[38;5;28;43mself\u001b[39;49m\u001b[38;5;241;43m.\u001b[39;49m\u001b[43mparallel\u001b[49m\u001b[38;5;241;43m.\u001b[39;49m\u001b[43mdispatch_next\u001b[49m\u001b[43m(\u001b[49m\u001b[43m)\u001b[49m\n",
      "File \u001b[0;32m~/.conda/envs/fullymobile/lib/python3.10/site-packages/joblib/parallel.py:834\u001b[0m, in \u001b[0;36mParallel.dispatch_next\u001b[0;34m(self)\u001b[0m\n\u001b[1;32m    826\u001b[0m \u001b[38;5;28;01mdef\u001b[39;00m \u001b[38;5;21mdispatch_next\u001b[39m(\u001b[38;5;28mself\u001b[39m):\n\u001b[1;32m    827\u001b[0m     \u001b[38;5;124;03m\"\"\"Dispatch more data for parallel processing\u001b[39;00m\n\u001b[1;32m    828\u001b[0m \n\u001b[1;32m    829\u001b[0m \u001b[38;5;124;03m    This method is meant to be called concurrently by the multiprocessing\u001b[39;00m\n\u001b[0;32m   (...)\u001b[0m\n\u001b[1;32m    832\u001b[0m \n\u001b[1;32m    833\u001b[0m \u001b[38;5;124;03m    \"\"\"\u001b[39;00m\n\u001b[0;32m--> 834\u001b[0m     \u001b[38;5;28;01mif\u001b[39;00m \u001b[38;5;129;01mnot\u001b[39;00m \u001b[38;5;28;43mself\u001b[39;49m\u001b[38;5;241;43m.\u001b[39;49m\u001b[43mdispatch_one_batch\u001b[49m\u001b[43m(\u001b[49m\u001b[38;5;28;43mself\u001b[39;49m\u001b[38;5;241;43m.\u001b[39;49m\u001b[43m_original_iterator\u001b[49m\u001b[43m)\u001b[49m:\n\u001b[1;32m    835\u001b[0m         \u001b[38;5;28mself\u001b[39m\u001b[38;5;241m.\u001b[39m_iterating \u001b[38;5;241m=\u001b[39m \u001b[38;5;28;01mFalse\u001b[39;00m\n\u001b[1;32m    836\u001b[0m         \u001b[38;5;28mself\u001b[39m\u001b[38;5;241m.\u001b[39m_original_iterator \u001b[38;5;241m=\u001b[39m \u001b[38;5;28;01mNone\u001b[39;00m\n",
      "File \u001b[0;32m~/.conda/envs/fullymobile/lib/python3.10/site-packages/joblib/parallel.py:901\u001b[0m, in \u001b[0;36mParallel.dispatch_one_batch\u001b[0;34m(self, iterator)\u001b[0m\n\u001b[1;32m    899\u001b[0m     \u001b[38;5;28;01mreturn\u001b[39;00m \u001b[38;5;28;01mFalse\u001b[39;00m\n\u001b[1;32m    900\u001b[0m \u001b[38;5;28;01melse\u001b[39;00m:\n\u001b[0;32m--> 901\u001b[0m     \u001b[38;5;28;43mself\u001b[39;49m\u001b[38;5;241;43m.\u001b[39;49m\u001b[43m_dispatch\u001b[49m\u001b[43m(\u001b[49m\u001b[43mtasks\u001b[49m\u001b[43m)\u001b[49m\n\u001b[1;32m    902\u001b[0m     \u001b[38;5;28;01mreturn\u001b[39;00m \u001b[38;5;28;01mTrue\u001b[39;00m\n",
      "File \u001b[0;32m~/.conda/envs/fullymobile/lib/python3.10/site-packages/joblib/parallel.py:819\u001b[0m, in \u001b[0;36mParallel._dispatch\u001b[0;34m(self, batch)\u001b[0m\n\u001b[1;32m    817\u001b[0m \u001b[38;5;28;01mwith\u001b[39;00m \u001b[38;5;28mself\u001b[39m\u001b[38;5;241m.\u001b[39m_lock:\n\u001b[1;32m    818\u001b[0m     job_idx \u001b[38;5;241m=\u001b[39m \u001b[38;5;28mlen\u001b[39m(\u001b[38;5;28mself\u001b[39m\u001b[38;5;241m.\u001b[39m_jobs)\n\u001b[0;32m--> 819\u001b[0m     job \u001b[38;5;241m=\u001b[39m \u001b[38;5;28;43mself\u001b[39;49m\u001b[38;5;241;43m.\u001b[39;49m\u001b[43m_backend\u001b[49m\u001b[38;5;241;43m.\u001b[39;49m\u001b[43mapply_async\u001b[49m\u001b[43m(\u001b[49m\u001b[43mbatch\u001b[49m\u001b[43m,\u001b[49m\u001b[43m \u001b[49m\u001b[43mcallback\u001b[49m\u001b[38;5;241;43m=\u001b[39;49m\u001b[43mcb\u001b[49m\u001b[43m)\u001b[49m\n\u001b[1;32m    820\u001b[0m     \u001b[38;5;66;03m# A job can complete so quickly than its callback is\u001b[39;00m\n\u001b[1;32m    821\u001b[0m     \u001b[38;5;66;03m# called before we get here, causing self._jobs to\u001b[39;00m\n\u001b[1;32m    822\u001b[0m     \u001b[38;5;66;03m# grow. To ensure correct results ordering, .insert is\u001b[39;00m\n\u001b[1;32m    823\u001b[0m     \u001b[38;5;66;03m# used (rather than .append) in the following line\u001b[39;00m\n\u001b[1;32m    824\u001b[0m     \u001b[38;5;28mself\u001b[39m\u001b[38;5;241m.\u001b[39m_jobs\u001b[38;5;241m.\u001b[39minsert(job_idx, job)\n",
      "File \u001b[0;32m~/.conda/envs/fullymobile/lib/python3.10/site-packages/joblib/_parallel_backends.py:556\u001b[0m, in \u001b[0;36mLokyBackend.apply_async\u001b[0;34m(self, func, callback)\u001b[0m\n\u001b[1;32m    554\u001b[0m \u001b[38;5;28;01mdef\u001b[39;00m \u001b[38;5;21mapply_async\u001b[39m(\u001b[38;5;28mself\u001b[39m, func, callback\u001b[38;5;241m=\u001b[39m\u001b[38;5;28;01mNone\u001b[39;00m):\n\u001b[1;32m    555\u001b[0m     \u001b[38;5;124;03m\"\"\"Schedule a func to be run\"\"\"\u001b[39;00m\n\u001b[0;32m--> 556\u001b[0m     future \u001b[38;5;241m=\u001b[39m \u001b[38;5;28;43mself\u001b[39;49m\u001b[38;5;241;43m.\u001b[39;49m\u001b[43m_workers\u001b[49m\u001b[38;5;241;43m.\u001b[39;49m\u001b[43msubmit\u001b[49m\u001b[43m(\u001b[49m\u001b[43mSafeFunction\u001b[49m\u001b[43m(\u001b[49m\u001b[43mfunc\u001b[49m\u001b[43m)\u001b[49m\u001b[43m)\u001b[49m\n\u001b[1;32m    557\u001b[0m     future\u001b[38;5;241m.\u001b[39mget \u001b[38;5;241m=\u001b[39m functools\u001b[38;5;241m.\u001b[39mpartial(\u001b[38;5;28mself\u001b[39m\u001b[38;5;241m.\u001b[39mwrap_future_result, future)\n\u001b[1;32m    558\u001b[0m     \u001b[38;5;28;01mif\u001b[39;00m callback \u001b[38;5;129;01mis\u001b[39;00m \u001b[38;5;129;01mnot\u001b[39;00m \u001b[38;5;28;01mNone\u001b[39;00m:\n",
      "File \u001b[0;32m~/.conda/envs/fullymobile/lib/python3.10/site-packages/joblib/externals/loky/reusable_executor.py:176\u001b[0m, in \u001b[0;36m_ReusablePoolExecutor.submit\u001b[0;34m(self, fn, *args, **kwargs)\u001b[0m\n\u001b[1;32m    174\u001b[0m \u001b[38;5;28;01mdef\u001b[39;00m \u001b[38;5;21msubmit\u001b[39m(\u001b[38;5;28mself\u001b[39m, fn, \u001b[38;5;241m*\u001b[39margs, \u001b[38;5;241m*\u001b[39m\u001b[38;5;241m*\u001b[39mkwargs):\n\u001b[1;32m    175\u001b[0m     \u001b[38;5;28;01mwith\u001b[39;00m \u001b[38;5;28mself\u001b[39m\u001b[38;5;241m.\u001b[39m_submit_resize_lock:\n\u001b[0;32m--> 176\u001b[0m         \u001b[38;5;28;01mreturn\u001b[39;00m \u001b[38;5;28;43msuper\u001b[39;49m\u001b[43m(\u001b[49m\u001b[43m)\u001b[49m\u001b[38;5;241;43m.\u001b[39;49m\u001b[43msubmit\u001b[49m\u001b[43m(\u001b[49m\u001b[43mfn\u001b[49m\u001b[43m,\u001b[49m\u001b[43m \u001b[49m\u001b[38;5;241;43m*\u001b[39;49m\u001b[43margs\u001b[49m\u001b[43m,\u001b[49m\u001b[43m \u001b[49m\u001b[38;5;241;43m*\u001b[39;49m\u001b[38;5;241;43m*\u001b[39;49m\u001b[43mkwargs\u001b[49m\u001b[43m)\u001b[49m\n",
      "File \u001b[0;32m~/.conda/envs/fullymobile/lib/python3.10/site-packages/joblib/externals/loky/process_executor.py:1129\u001b[0m, in \u001b[0;36mProcessPoolExecutor.submit\u001b[0;34m(self, fn, *args, **kwargs)\u001b[0m\n\u001b[1;32m   1127\u001b[0m \u001b[38;5;28;01mwith\u001b[39;00m \u001b[38;5;28mself\u001b[39m\u001b[38;5;241m.\u001b[39m_flags\u001b[38;5;241m.\u001b[39mshutdown_lock:\n\u001b[1;32m   1128\u001b[0m     \u001b[38;5;28;01mif\u001b[39;00m \u001b[38;5;28mself\u001b[39m\u001b[38;5;241m.\u001b[39m_flags\u001b[38;5;241m.\u001b[39mbroken \u001b[38;5;129;01mis\u001b[39;00m \u001b[38;5;129;01mnot\u001b[39;00m \u001b[38;5;28;01mNone\u001b[39;00m:\n\u001b[0;32m-> 1129\u001b[0m         \u001b[38;5;28;01mraise\u001b[39;00m \u001b[38;5;28mself\u001b[39m\u001b[38;5;241m.\u001b[39m_flags\u001b[38;5;241m.\u001b[39mbroken\n\u001b[1;32m   1130\u001b[0m     \u001b[38;5;28;01mif\u001b[39;00m \u001b[38;5;28mself\u001b[39m\u001b[38;5;241m.\u001b[39m_flags\u001b[38;5;241m.\u001b[39mshutdown:\n\u001b[1;32m   1131\u001b[0m         \u001b[38;5;28;01mraise\u001b[39;00m ShutdownExecutorError(\n\u001b[1;32m   1132\u001b[0m             \u001b[38;5;124m'\u001b[39m\u001b[38;5;124mcannot schedule new futures after shutdown\u001b[39m\u001b[38;5;124m'\u001b[39m)\n",
      "\u001b[0;31mBrokenProcessPool\u001b[0m: A task has failed to un-serialize. Please ensure that the arguments of the function are all picklable."
     ]
    }
   ],
   "source": [
    "start = time.time()\n",
    "opt_radius, radius_paths = cover_fac_binary(potential_facilities, location_directory, pid_assignment, m, k_facs, lower_limit = 0.5, upper_limit = 3, n_jobs = 40)\n",
    "end = time.time()\n",
    "\n",
    "print(end-start)"
   ]
  },
  {
   "cell_type": "code",
   "execution_count": 5,
   "metadata": {},
   "outputs": [
    {
     "name": "stdout",
     "output_type": "stream",
     "text": [
      "1.75\n",
      "[[2127179, 1044674, 2626760, 2494984, 1916189, 1334708, 103742, 2047859, 2311428, 2494984, 2311433, 2574240, 2258515, 1360912], [2232397, 1440146, 2679587, 2521316, 2732535, 2732562, 2047840, 2732535, 596644, 2653323, 97976, 2232373, 2732535, 2416387], [2732535, 2732562, 2732535, 2705922, 2468590, 2705922, 2732583, 2732501, 2285220, 2705922, 2732575, 2732535, 2732528, 2574269], [2732510, 2705922, 2732509, 2732510, 2732562, 2732535, 2468594, 2732562, 123144, 2732535, 2732528, 2732583, 2547884, 2706039], [2732583, 2705953, 2732583, 2732583, 2732583, 2732583, 2732583, 2705953, 2732583, 2732510, 2732583, 2732583, 2732583, 2732488]]\n"
     ]
    }
   ],
   "source": [
    "print(opt_radius)\n",
    "print(radius_paths)"
   ]
  },
  {
   "cell_type": "code",
   "execution_count": 6,
   "metadata": {},
   "outputs": [
    {
     "name": "stdout",
     "output_type": "stream",
     "text": [
      "TOTAL CLIENTS:  517\n",
      "---CALCULATED REACHABLE FACILITIES---\n"
     ]
    },
    {
     "name": "stderr",
     "output_type": "stream",
     "text": [
      "100%|██████████| 5/5 [04:15<00:00, 51.10s/it]\n",
      "100%|██████████| 5/5 [04:15<00:00, 51.08s/it]\n",
      "100%|██████████| 5/5 [04:18<00:00, 51.78s/it]\n",
      "100%|██████████| 5/5 [04:21<00:00, 52.30s/it]\n",
      "100%|██████████| 5/5 [04:23<00:00, 52.61s/it]\n",
      "100%|██████████| 5/5 [04:23<00:00, 52.74s/it]\n",
      "100%|██████████| 5/5 [04:26<00:00, 53.32s/it]\n",
      "100%|██████████| 5/5 [04:24<00:00, 52.84s/it]\n",
      "100%|██████████| 5/5 [04:27<00:00, 53.44s/it]\n",
      "100%|██████████| 5/5 [04:29<00:00, 54.00s/it]\n",
      "100%|██████████| 5/5 [04:26<00:00, 53.36s/it]\n",
      "100%|██████████| 5/5 [04:30<00:00, 54.01s/it]\n",
      "100%|██████████| 5/5 [04:30<00:00, 54.05s/it]\n",
      "100%|██████████| 5/5 [04:27<00:00, 53.45s/it]\n",
      "100%|██████████| 5/5 [04:33<00:00, 54.61s/it]\n",
      "100%|██████████| 5/5 [04:34<00:00, 54.88s/it]\n",
      "100%|██████████| 5/5 [04:32<00:00, 54.54s/it]\n",
      "100%|██████████| 5/5 [04:33<00:00, 54.68s/it]\n",
      "100%|██████████| 5/5 [04:33<00:00, 54.61s/it]\n",
      "100%|██████████| 5/5 [04:36<00:00, 55.31s/it]\n",
      "100%|██████████| 5/5 [04:35<00:00, 55.05s/it]\n",
      "100%|██████████| 5/5 [04:36<00:00, 55.29s/it]\n",
      "100%|██████████| 5/5 [04:37<00:00, 55.55s/it]\n",
      "100%|██████████| 5/5 [04:36<00:00, 55.20s/it]\n",
      "100%|██████████| 5/5 [04:38<00:00, 55.63s/it]\n",
      "100%|██████████| 5/5 [04:35<00:00, 55.11s/it]\n",
      "100%|██████████| 5/5 [04:35<00:00, 55.19s/it]\n",
      "100%|██████████| 5/5 [04:36<00:00, 55.40s/it]\n",
      "100%|██████████| 5/5 [04:38<00:00, 55.73s/it]\n",
      "100%|██████████| 5/5 [04:40<00:00, 56.17s/it]\n",
      "100%|██████████| 5/5 [04:41<00:00, 56.35s/it]\n",
      "100%|██████████| 5/5 [04:39<00:00, 55.87s/it]\n",
      "100%|██████████| 5/5 [04:42<00:00, 56.56s/it]\n",
      "100%|██████████| 5/5 [04:42<00:00, 56.50s/it]\n",
      "100%|██████████| 5/5 [04:40<00:00, 56.10s/it]\n",
      "100%|██████████| 5/5 [04:44<00:00, 56.94s/it]\n",
      "100%|██████████| 5/5 [04:42<00:00, 56.44s/it]\n",
      "100%|██████████| 5/5 [04:46<00:00, 57.25s/it]\n",
      "100%|██████████| 5/5 [04:47<00:00, 57.53s/it]\n",
      "100%|██████████| 5/5 [04:53<00:00, 58.67s/it]\n"
     ]
    },
    {
     "name": "stdout",
     "output_type": "stream",
     "text": [
      "1.7804878048780488\n",
      "175 [2390173, 2047805, 2521329, 1995370, 2337742, 2285133, 2390169, 2521228, 56513, 2732510, 2732509, 2574240, 201425, 2390173]\n",
      "128 [102433, 1123542, 2732488, 2732510, 2232397, 2653355, 2442491, 912599, 2574269, 2468669, 912692, 1071146, 2653358, 1995343]\n",
      "75 [1625114, 2179855, 2732510, 2705933, 132246, 2732528, 1097348, 2679587, 2074364, 2468594, 2679516, 27721, 2732535, 2732488]\n",
      "50 [2285181, 2706030, 2653338, 2653338, 2732501, 2705918, 2706026, 2705941, 2232398, 2732535, 2705977, 2732535, 2732509, 2547857]\n",
      "36 [2547797, 2468594, 2653274, 438498, 2653311, 2653338, 2390135, 2706039, 1229151, 2732528, 2705918, 2732509, 2732488, 2626760]\n"
     ]
    },
    {
     "name": "stderr",
     "output_type": "stream",
     "text": [
      "  0%|          | 0/5 [00:00<?, ?it/s]"
     ]
    },
    {
     "name": "stdout",
     "output_type": "stream",
     "text": [
      "276 [2653280, 2258513, 1123501, 2494984, 1413981, 675555, 2100792, 51662, 91203, 2494984, 2100792, 17109, 1598550, 2100698]\n",
      "115 [133521, 1097348, 2574283, 2047865, 2732562, 2732575, 77880, 2705977, 42301, 2285184, 74336, 2732562, 2679509, 2521252]\n",
      "69 [2732535, 2626745, 2732509, 2732528, 2732535, 2705922, 2732575, 2547887, 807647, 2705922, 2732510, 2679509, 2521315, 2732535]\n",
      "40 [2732509, 2732562, 2732488, 2653250, 2100683, 2285181, 1519502, 2653274, 2732510, 2732535, 2732562, 2732528, 2732510, 2732575]\n",
      "12 [2732488, 2653289, 2732583, 2732510, 2705977, 2732575, 2732583, 2732583, 2705922, 2732510, 2732535, 2732583, 2732535, 2732562]\n",
      "316 [1176071, 76435, 2626760, 2363976, 728600, 1334708, 1651556, 63112, 91203, 2494984, 2311433, 17109, 2100792, 333417]\n",
      "105 [2732562, 2206279, 2679587, 2521309, 2732535, 2732562, 2047840, 2705977, 2285184, 2653323, 2653250, 2232373, 2732535, 2416387]\n",
      "53 [2732535, 2732562, 2732535, 2705922, 2732562, 2705922, 2732583, 2732501, 2285220, 2705922, 2732575, 2732535, 2732528, 2732535]\n",
      "35 [2732501, 2732501, 2732509, 2732510, 2468590, 2732535, 2285124, 2732562, 2732535, 2732535, 2732510, 2732583, 2547884, 491340]\n",
      "6 [2732583, 2732535, 2732583, 2732583, 2732583, 2732583, 2732583, 2705953, 2732510, 2732510, 2732535, 2732583, 2732583, 2732488]\n"
     ]
    },
    {
     "name": "stderr",
     "output_type": "stream",
     "text": [
      "  0%|          | 0/5 [00:00<?, ?it/s]"
     ]
    },
    {
     "name": "stdout",
     "output_type": "stream",
     "text": [
      "211 [2653281, 1466665, 2416397, 98326, 2258515, 1071064, 2416397, 61042, 2653281, 1202599, 2390169, 1360963, 1889549, 1097376]\n",
      "121 [2626820, 2468669, 2732488, 72547, 2521309, 2732575, 2706020, 2732535, 2468664, 2679587, 2363944, 1757310, 1995343, 2574283]\n",
      "83 [2416387, 912599, 2442419, 2732509, 1968859, 2705922, 2653307, 2442482, 2706039, 2494990, 1863223, 2732535, 1097348, 2653307]\n",
      "48 [1149525, 2600237, 2732575, 2390122, 2732501, 2679587, 2600237, 2705922, 2705941, 2705923, 2732509, 2416387, 2732510, 2705923]\n",
      "30 [2705977, 2732575, 2732562, 2732583, 2285181, 2653311, 2732528, 2574235, 2705918, 2705977, 2705977, 2732488, 2732488, 2311497]\n",
      "139 [2021713, 2494990, 2364034, 1545935, 2547806, 2705933, 1466629, 2337742, 2494961, 2390135, 122502, 2732510, 2416397, 1202672]\n",
      "106 [2468603, 133481, 134126, 1546034, 2732575, 2653366, 2732575, 2626710, 2179889, 2679585, 1995343, 2600237, 2732575, 2521252]\n",
      "76 [2626820, 2390128, 1863113, 2653291, 2521310, 1387423, 2547857, 2311397, 2232354, 2494997, 2600230, 2364034, 1202579, 2653257]\n",
      "56 [306971, 2390131, 2653338, 2521310, 2679531, 2521304, 1625061, 2653338, 2100772, 2653248, 2653250, 2706039, 2732528, 2258512]\n",
      "43 [2206275, 2285126, 2494999, 2732501, 1995275, 2653248, 2732488, 2626742, 2706039, 2705941, 2732575, 2653338, 1229244, 2547857]\n"
     ]
    },
    {
     "name": "stderr",
     "output_type": "stream",
     "text": [
      "  0%|          | 0/5 [00:00<?, ?it/s]"
     ]
    },
    {
     "name": "stdout",
     "output_type": "stream",
     "text": [
      "164 [1783616, 2390162, 2600356, 2416397, 1413981, 2285133, 1440154, 1730661, 1123502, 2732509, 2021713, 2574240, 675555, 2390173]\n",
      "116 [2626728, 280624, 1229162, 2600360, 438602, 2653355, 2285211, 2705977, 1625076, 912667, 2626820, 1863222, 2626820, 1995343]\n",
      "74 [2706020, 438495, 2732510, 2416387, 2574234, 2732528, 1097348, 2679587, 2390173, 2468594, 1704117, 2705974, 2705974, 2653257]\n",
      "55 [2705953, 2495059, 2653338, 2705933, 132246, 2705918, 2074383, 2705941, 1572290, 89195, 42286, 1995370, 2732509, 2547857]\n",
      "38 [2206275, 2311397, 2653274, 2285188, 2653311, 2653338, 2468675, 2706039, 1176030, 2732535, 2705977, 2732488, 2732488, 174972]\n",
      "82 [2206220, 438544, 1968994, 135597, 1229276, 2600235, 2574240, 76439, 2285133, 570562, 2653281, 2258494, 1281940, 2521252]\n",
      "63 [2494967, 2574283, 2547895, 2494990, 1202599, 2706039, 2232390, 2705974, 754989, 2600234, 2653355, 1651480, 2232390, 131268]\n",
      "55 [2337777, 2653361, 1968881, 2600230, 491340, 2574242, 2732528, 2653338, 2732509, 1229200, 2494953, 2600237, 1916119, 2600227]\n",
      "46 [2653274, 2732575, 2494956, 105588, 2547810, 2390169, 2705977, 2600230, 2705974, 2494984, 1916164, 2390207, 2705977, 2574278]\n",
      "39 [2574283, 2494997, 1255601, 2521316, 2653311, 2626832, 2574282, 2600237, 2679587, 1889607, 2653291, 2285220, 1995343, 2653281]\n"
     ]
    },
    {
     "name": "stderr",
     "output_type": "stream",
     "text": [
      "  0%|          | 0/5 [00:00<?, ?it/s]"
     ]
    },
    {
     "name": "stdout",
     "output_type": "stream",
     "text": [
      "221 [2732510, 1387423, 2416397, 2653281, 129854, 2337775, 1598550, 74647, 17109, 2653281, 98326, 1387407, 2521329, 2574283]\n",
      "121 [70633, 2468669, 2732488, 702089, 2732562, 2732575, 2732535, 2653307, 2732535, 70630, 1968859, 2600360, 2732510, 1097376]\n",
      "78 [2732583, 1097348, 2442419, 2285120, 2732501, 2705922, 2653281, 2547887, 2442491, 2705922, 2600360, 1413970, 2153378, 2653250]\n",
      "48 [2705977, 2285126, 2732575, 2732528, 1968859, 2732528, 2732562, 2653274, 2732509, 2626767, 2732510, 2732535, 2732562, 2705977]\n",
      "29 [2626742, 2732562, 2732562, 2732562, 2653311, 69742, 2705922, 2705922, 2705922, 2732562, 2732535, 2547876, 2653311, 2653355]\n"
     ]
    },
    {
     "name": "stderr",
     "output_type": "stream",
     "text": [
      "  0%|          | 0/5 [00:00<?, ?it/s]"
     ]
    },
    {
     "name": "stdout",
     "output_type": "stream",
     "text": [
      "111 [1123502, 2494989, 2521329, 73591, 1968881, 2468601, 1863114, 2127146, 2285133, 2679585, 412353, 2574234, 2258513, 2521252]\n",
      "89 [412332, 1889594, 70308, 2521268, 1282019, 1466724, 76058, 2732535, 1651506, 1968881, 649226, 2021720, 728619, 2679585]\n",
      "66 [2653291, 68981, 1809950, 2705933, 2390207, 2706039, 2732535, 2311433, 1149572, 2494990, 2074415, 127361, 2705974, 2705933]\n",
      "53 [2679516, 965370, 1413970, 2732575, 2732501, 2653291, 2732528, 412406, 2679585, 131099, 76436, 2706039, 2047819, 1149635]\n",
      "43 [98105, 860022, 2653338, 2653338, 2679509, 2732583, 1572290, 2706039, 2732528, 2705922, 2705922, 2732535, 2468675, 76430]\n",
      "91 [2494958, 254319, 1282019, 42168, 1229276, 76432, 2653281, 438495, 2285133, 2679585, 1229200, 2494967, 1123501, 2521252]\n",
      "70 [1360966, 1889598, 2547806, 2521268, 132762, 2706039, 2732575, 135597, 2285181, 2705933, 1942543, 2626760, 2653355, 570568]\n",
      "59 [2732501, 1546037, 702033, 2600234, 2442491, 2574242, 2732528, 2653338, 1308370, 2494989, 95526, 31053, 2705977, 2600227]\n",
      "47 [2653274, 2127195, 2732528, 1863185, 2232306, 2390169, 2705977, 2653257, 2732501, 2258512, 2679512, 2732535, 2653361, 2653350]\n",
      "40 [132685, 77883, 2653338, 1625114, 2653311, 2626832, 2574282, 2653281, 2705974, 2705922, 2705922, 2600238, 2653291, 2653291]\n"
     ]
    },
    {
     "name": "stderr",
     "output_type": "stream",
     "text": [
      "  0%|          | 0/5 [00:00<?, ?it/s]"
     ]
    },
    {
     "name": "stdout",
     "output_type": "stream",
     "text": [
      "291 [2494984, 2258513, 2258513, 675555, 1123542, 2494984, 38918, 2653262, 135099, 1360963, 2258515, 134126, 132080, 2337742]\n",
      "110 [2547887, 2258467, 2574278, 2442482, 2600227, 2074417, 1651506, 1916147, 2285184, 2574276, 74336, 2390207, 2468583, 359771]\n",
      "61 [2732535, 2732501, 2732509, 2705918, 2705977, 2705922, 2732575, 2732575, 2468706, 2705922, 2732510, 2732535, 2732562, 2153378]\n",
      "39 [2732509, 2732562, 2732488, 2732510, 2732562, 2705977, 2153380, 2679531, 2732535, 2732510, 2732562, 2732528, 2732510, 2732562]\n",
      "12 [2732488, 2653289, 2732583, 2732583, 2732509, 2732583, 2732583, 2732535, 2732510, 2732535, 2732535, 2732583, 2547884, 2732583]\n"
     ]
    },
    {
     "name": "stderr",
     "output_type": "stream",
     "text": [
      "  0%|          | 0/5 [00:00<?, ?it/s]"
     ]
    },
    {
     "name": "stdout",
     "output_type": "stream",
     "text": [
      "150 [2732509, 596588, 2600356, 2494961, 134197, 1968881, 2337775, 2285133, 2494984, 1493094, 2390162, 2732510, 2494984, 2390173]\n",
      "113 [2494961, 133481, 134126, 1836963, 2626820, 2653355, 2732575, 2626710, 2547855, 2679587, 2732575, 1863118, 2626820, 1202668]\n",
      "74 [2653358, 2626710, 1863113, 2494990, 2206236, 2705953, 1097348, 2653338, 2521252, 2521228, 2600230, 2521309, 2390128, 2653257]\n",
      "52 [1625057, 2574276, 2653338, 2653338, 2653250, 2653338, 2074383, 2732488, 2547876, 2653250, 2653250, 2706030, 2732528, 2547857]\n",
      "42 [2206275, 2495059, 2521252, 125884, 2521310, 2653248, 2706039, 2705941, 2390131, 127879, 2705977, 2390128, 2732509, 125741]\n",
      "196 [2311428, 1466665, 2600356, 2521329, 2100792, 1176071, 2311433, 2547806, 2494984, 134126, 2547810, 1123502, 649144, 2074364]\n",
      "120 [2626820, 2574283, 2732488, 2732509, 2390207, 2074440, 2706020, 2705977, 2653307, 2679587, 2732509, 2547887, 728621, 2679585]\n",
      "79 [1255607, 912599, 2442419, 2653257, 2679531, 2705922, 2206279, 2442482, 2706020, 2732528, 2653358, 2732535, 2732535, 2285120]\n",
      "57 [2127146, 1202588, 2653338, 2653338, 1097337, 2732528, 2706030, 2732509, 2705941, 2705922, 135001, 96084, 2732510, 2626728]\n",
      "33 [2547857, 2732562, 2732510, 2705974, 2653311, 2679587, 2600237, 2705922, 2705918, 2574269, 2732562, 2732488, 2390131, 2705977]\n",
      "367 [1387407, 2258513, 2626728, 2547839, 2074415, 2600356, 135293, 596640, 2337775, 2390169, 2390169, 2390169, 1255603, 2653281]\n",
      "96 [702063, 2679509, 2653291, 2732562, 2653307, 2705923, 1651456, 2679531, 103161, 2100762, 2547797, 2732562, 2574269, 2494956]\n",
      "39 [2732575, 2732575, 2285179, 2732488, 2732510, 2574269, 2732535, 2732583, 2706039, 2127137, 2732575, 2732535, 2732575, 2706039]\n",
      "12 [2732501, 2732501, 2732583, 2732510, 2732583, 2732583, 2732583, 2732535, 2732510, 2732535, 2732528, 2732510, 2732583, 2732535]\n",
      "3 [2732583, 2706026, 2732583, 2732583, 2732583, 2732583, 2732583, 2705953, 2732583, 2732583, 2732583, 2732583, 2732583, 2705953]\n",
      "128 [2390162, 2494990, 2521329, 649127, 2468603, 2468603, 1968881, 1651460, 2547806, 76431, 2732510, 807564, 1809960, 2521252]\n",
      "105 [1889515, 98496, 2626728, 2495049, 115374, 2653366, 1968994, 2232354, 1255607, 2679585, 1995343, 2600237, 2732575, 1704187]\n",
      "69 [2311421, 1308404, 2442424, 1229200, 2521310, 2732528, 2547855, 2705933, 2574269, 2653291, 2600230, 94936, 2732535, 1202599]\n",
      "56 [1916164, 2127129, 1651459, 2521309, 123144, 1889594, 2732528, 2521316, 2100772, 1889549, 2653250, 2706039, 2732528, 2600356]\n",
      "43 [2653366, 2337821, 2653338, 82537, 2732501, 1123452, 2521310, 2337767, 2706039, 1123452, 2732575, 2653338, 2653338, 912599]\n"
     ]
    },
    {
     "name": "stderr",
     "output_type": "stream",
     "text": [
      "  0%|          | 0/5 [00:00<?, ?it/s]"
     ]
    },
    {
     "name": "stdout",
     "output_type": "stream",
     "text": [
      "120 [1493094, 134961, 1018299, 2521228, 61042, 2468603, 2494984, 2653262, 2285133, 2285133, 2074382, 130369, 16447, 2521252]\n",
      "98 [2653262, 1968967, 2547810, 134961, 1255661, 1968995, 1466723, 2311433, 128035, 1995343, 1995343, 2706039, 2732575, 702089]\n",
      "68 [135737, 2547895, 2732509, 2732575, 2521309, 2732528, 43165, 2232354, 2574269, 2494990, 2468603, 2653350, 2732535, 2705933]\n",
      "52 [2653274, 2494956, 1651459, 2653338, 74336, 2679585, 2547810, 1995348, 2706039, 21306, 2705922, 2653291, 2047819, 2547895]\n",
      "45 [2047819, 2705974, 2653338, 2468691, 2732501, 130093, 596674, 412332, 2679585, 130093, 2732535, 1889607, 2653338, 76430]\n",
      "250 [1598501, 1466657, 1677999, 42177, 97015, 2494984, 2258515, 2600234, 2653280, 2653281, 103164, 131970, 2600356, 728600]\n",
      "121 [2732575, 99088, 79890, 2732562, 2732562, 2732575, 2732535, 2705977, 2468664, 2285184, 1968859, 1625114, 2285120, 2732509]\n",
      "73 [134886, 2468583, 2626770, 2732528, 2679512, 2705922, 2653355, 2232373, 649249, 2705922, 2706020, 2206279, 2732510, 2705974]\n",
      "40 [2705941, 2679531, 2732488, 2653250, 2311451, 2285179, 2732510, 2679531, 2732535, 2626767, 2732510, 2732510, 2679587, 2732562]\n",
      "24 [2285179, 2732562, 2705977, 2732509, 2732509, 2732583, 2705922, 2705922, 2705922, 2732535, 2732535, 2732562, 2653311, 2732488]\n"
     ]
    },
    {
     "name": "stderr",
     "output_type": "stream",
     "text": [
      "  0%|          | 0/5 [00:00<?, ?it/s]"
     ]
    },
    {
     "name": "stdout",
     "output_type": "stream",
     "text": [
      "235 [2653281, 135272, 2258514, 2574240, 33913, 2653281, 1677999, 1889515, 134126, 17109, 2337775, 2574240, 1677999, 728600]\n",
      "118 [2732575, 2732510, 2732488, 2232373, 2732562, 2732575, 2732535, 2653307, 2100762, 2285184, 1968859, 2732562, 2206279, 2732509]\n",
      "78 [2521252, 1097348, 2442419, 2732528, 2679512, 2705922, 2442482, 2732562, 2706039, 2705922, 2706020, 2285120, 2732562, 2653250]\n",
      "45 [2732535, 2732562, 2732562, 2653250, 2311451, 2285179, 2705922, 2653274, 2732509, 2626767, 2732510, 2732510, 2600237, 2047871]\n",
      "25 [2705923, 2468593, 2732583, 2732509, 2732509, 2732528, 2732510, 2705922, 2732535, 2732535, 2732535, 2732583, 2732510, 2705977]\n",
      "262 [2653280, 2100792, 2547839, 56513, 1413981, 58695, 1466724, 51662, 2653280, 2258512, 2390169, 1598501, 2021765, 131949]\n",
      "123 [912667, 2521261, 939033, 991961, 2732562, 2732575, 74336, 2705977, 2468664, 2285184, 2416337, 2706020, 2153378, 622983]\n",
      "76 [2153427, 1097348, 2626770, 2732528, 2732535, 2705922, 2732562, 2232373, 649249, 2705922, 2706039, 2285120, 2311428, 2732535]\n",
      "37 [2521268, 2732562, 2732488, 2653250, 1836859, 2285179, 2732510, 2653274, 2705922, 2732535, 2732510, 2732562, 2521315, 2732562]\n",
      "14 [2732488, 2705922, 2705977, 2732509, 2547857, 2732575, 2732535, 2732583, 2732535, 2732510, 2732535, 2732583, 2732583, 2732583]\n",
      "101 [2153394, 2494989, 1282019, 2337775, 1995280, 2468601, 2468603, 43177, 2285133, 2679585, 2494989, 2547825, 1889554, 622983]\n",
      "80 [1097376, 1889594, 2547806, 2732575, 755033, 77213, 1942543, 2732535, 623016, 2494958, 2574282, 1334708, 2074440, 2679585]\n",
      "64 [2653291, 2468691, 2521261, 2521268, 1916169, 2706039, 2495059, 1413981, 2390162, 1414011, 649226, 2600227, 134459, 2705933]\n",
      "49 [129854, 2547797, 2732528, 2653338, 2337742, 2653291, 2732535, 2653338, 2679585, 2337775, 2705922, 702114, 2732528, 68148]\n",
      "43 [2653274, 2232298, 2653338, 2653262, 2679509, 2732583, 2100698, 2653281, 1123494, 21306, 2494958, 2732535, 2653361, 2390164]\n",
      "181 [438544, 2047805, 2521329, 2521329, 2626820, 2574240, 2390169, 2127148, 73717, 2732510, 2258513, 2653280, 2600356, 2626770]\n",
      "128 [2547810, 1229276, 2732488, 2732510, 2390135, 2732575, 2706020, 2705974, 2574269, 2574283, 2653358, 1071146, 2732510, 1810013]\n",
      "82 [2600360, 1942514, 1651477, 2442392, 438498, 124435, 2732535, 1334755, 2626770, 2653257, 1123472, 2600230, 2732535, 2732488]\n",
      "50 [2547857, 2179855, 2653338, 2653338, 2653311, 2732528, 2732488, 2705941, 2653358, 2679531, 2732509, 2732535, 2547887, 2547857]\n",
      "34 [2547797, 2468594, 2732510, 2626710, 2574278, 2732562, 2706026, 2705922, 2706039, 2732528, 2705977, 1044744, 2232298, 2390122]\n"
     ]
    },
    {
     "name": "stderr",
     "output_type": "stream",
     "text": [
      "  0%|          | 0/5 [00:00<?, ?it/s]"
     ]
    },
    {
     "name": "stdout",
     "output_type": "stream",
     "text": [
      "357 [2653281, 1360963, 1360912, 2416397, 517246, 1916189, 126950, 2311459, 2653281, 359780, 2337775, 1519549, 2311433, 131949]\n",
      "95 [702063, 2679509, 2732510, 2732562, 2390128, 2705922, 912599, 2732535, 2574276, 2705922, 2468583, 2732562, 2574269, 2626770]\n",
      "46 [2732575, 2732575, 2574276, 2732488, 2732510, 2732562, 2732528, 2732501, 2706039, 2521315, 2732575, 2732535, 2732575, 2626710]\n",
      "17 [2732510, 2732501, 2732535, 2732510, 2732583, 2732535, 2732583, 2732583, 2653250, 2732510, 2732528, 2732510, 2732528, 2706039]\n",
      "2 [2732583, 2706026, 2732583, 2732583, 2732583, 2732583, 2732583, 2705953, 2732583, 2732583, 2732583, 2732583, 2732583, 2732583]\n"
     ]
    },
    {
     "name": "stderr",
     "output_type": "stream",
     "text": [
      "  0%|          | 0/5 [00:00<?, ?it/s]"
     ]
    },
    {
     "name": "stdout",
     "output_type": "stream",
     "text": [
      "304 [42223, 76435, 517204, 675555, 2100698, 2494984, 1466724, 135099, 91203, 2494984, 2258514, 2653281, 2100792, 2100698]\n",
      "112 [2732562, 1097348, 2679587, 2521309, 2732562, 2653358, 1651506, 2574276, 2285184, 2574276, 2442376, 570564, 2206279, 2521252]\n",
      "57 [2732535, 2732562, 2732509, 2705918, 2705977, 2705922, 2732583, 2232354, 2468706, 2705922, 2732562, 2679509, 2732528, 2153378]\n",
      "35 [2626745, 2732501, 2732488, 2732510, 2468590, 2732535, 2285124, 2732575, 2732535, 2732535, 2732510, 2732583, 2547884, 2732562]\n",
      "7 [2732583, 2653289, 623016, 2732583, 2732583, 2732583, 2732583, 2705953, 2732510, 2732510, 2732535, 2732583, 2732583, 2732583]\n"
     ]
    },
    {
     "name": "stderr",
     "output_type": "stream",
     "text": [
      "  0%|          | 0/5 [00:00<?, ?it/s]"
     ]
    },
    {
     "name": "stdout",
     "output_type": "stream",
     "text": [
      "402 [781204, 1545935, 754967, 2100792, 2521304, 135737, 1519590, 464969, 2258513, 2285133, 2547806, 2337775, 1387381, 2468603]\n",
      "79 [77880, 2732535, 2285181, 2100762, 2732535, 2732535, 2705922, 2705941, 2285120, 2574276, 2626710, 2679587, 2285179, 702063]\n",
      "29 [2732583, 2706026, 2732510, 2732583, 2732510, 2732488, 2732535, 2732583, 2732562, 2285126, 2732583, 2732535, 2732583, 2574242]\n",
      "7 [2732583, 2732575, 2732583, 2732528, 2732583, 2732583, 2732583, 2732535, 2732528, 2732583, 2732528, 2732583, 2732583, 2732575]\n",
      "0 [2732583, 2732583, 2732583, 2732583, 2732583, 2732583, 2732583, 2732583, 2732583, 2732583, 2732583, 2732583, 2732583, 2732583]\n",
      "323 [2311428, 13535, 2732528, 2494984, 1889596, 2258514, 132685, 2311459, 2127179, 2494984, 2311433, 2574240, 2258515, 2574240]\n",
      "113 [2232397, 122464, 1123535, 2732562, 2732535, 2732562, 2574269, 2732535, 596644, 2653323, 122461, 2232373, 2732535, 386033]\n",
      "52 [2732535, 2732562, 2732535, 2705922, 2468590, 2705922, 2732583, 2732501, 2547912, 2705922, 2732575, 2732535, 2732528, 2653274]\n",
      "23 [2732510, 2732501, 2732509, 2732510, 2732562, 2732535, 2468594, 2732562, 2442376, 2732535, 2732528, 2732583, 2547884, 2179855]\n",
      "6 [2732583, 2705953, 2732583, 2732583, 2732583, 2732583, 2732583, 2705953, 2732583, 2732510, 2732583, 2732583, 2732583, 2706039]\n"
     ]
    },
    {
     "name": "stderr",
     "output_type": "stream",
     "text": [
      "  0%|          | 0/5 [00:00<?, ?it/s]"
     ]
    },
    {
     "name": "stdout",
     "output_type": "stream",
     "text": [
      "436 [2547839, 2547806, 2574282, 2364034, 1229242, 115365, 1809934, 2390131, 74334, 2705933, 1968881, 44029, 2285191, 1123502]\n",
      "61 [2468664, 2468664, 2732528, 2732535, 2732510, 2547884, 2732583, 2600280, 135252, 2679509, 2732535, 2705923, 2732535, 2679509]\n",
      "17 [2732583, 2732583, 2732535, 2732528, 2732535, 2732499, 2732488, 2732583, 2600340, 2732583, 2732583, 2732575, 2732528, 2732583]\n",
      "3 [2732583, 2732583, 2732583, 2732583, 2732583, 2732583, 2732583, 2732535, 2732535, 2732583, 2732583, 2732583, 2732583, 2732509]\n",
      "0 [2732583, 2732583, 2732583, 2732583, 2732583, 2732583, 2732583, 2732583, 2732583, 2732583, 2732583, 2732583, 2732583, 2732583]\n",
      "428 [2547839, 227937, 2574282, 50604, 2653323, 2521329, 1757284, 2390131, 74334, 2600238, 1889515, 1123542, 2574282, 133613]\n",
      "69 [2468664, 2468664, 2732528, 2732535, 2468594, 2468583, 2732488, 2600280, 135252, 2732499, 2705974, 2705923, 2732535, 2442467]\n",
      "17 [2732583, 2732583, 2732535, 2732528, 2732535, 2732583, 2732583, 2732583, 1018286, 2732535, 2732583, 2732528, 2732528, 2732575]\n",
      "3 [2732583, 2732583, 2732583, 2732583, 2732583, 2732583, 2732583, 2732535, 2732535, 2732583, 2732583, 2732583, 2732583, 2732509]\n",
      "0 [2732583, 2732583, 2732583, 2732583, 2732583, 2732583, 2732583, 2732583, 2732583, 2732583, 2732583, 2732583, 2732583, 2732583]\n",
      "420 [2258512, 2285133, 2574282, 1916189, 2285191, 2364034, 132685, 2390131, 131949, 2626728, 2600238, 2100792, 2021744, 2494984]\n",
      "74 [2468664, 2468664, 2732528, 2494956, 2732535, 2468583, 2653250, 2600280, 135252, 2679531, 2679509, 2416433, 2732535, 2442467]\n",
      "17 [2732583, 2732583, 2732535, 2732528, 2732510, 2732583, 2732583, 2732583, 2732562, 2732535, 2732583, 2705923, 2732528, 2732575]\n",
      "6 [2732583, 2732535, 2732583, 2732583, 2732583, 2732583, 2732583, 2732535, 2732535, 2732583, 2732528, 2732583, 2732583, 2732509]\n",
      "0 [2732583, 2732583, 2732583, 2732583, 2732583, 2732583, 2732583, 2732583, 2732583, 2732583, 2732583, 2732583, 2732583, 2732583]\n"
     ]
    },
    {
     "name": "stderr",
     "output_type": "stream",
     "text": [
      "  0%|          | 0/5 [00:00<?, ?it/s]"
     ]
    },
    {
     "name": "stdout",
     "output_type": "stream",
     "text": [
      "417 [438539, 1968881, 728600, 94936, 1334746, 1255661, 2521304, 2232298, 18453, 2547806, 2547806, 1651556, 2021744, 1995280]\n",
      "71 [2047840, 2442467, 2732510, 2468664, 2732535, 2468583, 2363944, 2732528, 2732528, 2679509, 2626710, 2705923, 2732535, 2285181]\n",
      "21 [2732583, 2732583, 2732535, 2732528, 2732510, 2732583, 2732583, 2732583, 2363944, 2468590, 2732583, 2732575, 2732528, 2600280]\n",
      "7 [2732583, 2732535, 2732583, 2732583, 2732583, 2732583, 2732583, 2732535, 2732562, 2732583, 2732528, 2732583, 2732583, 2732575]\n",
      "1 [2732583, 2732583, 2732583, 2732583, 2732583, 2732583, 2732583, 2705953, 2732583, 2732583, 2732583, 2732583, 2732583, 2732583]\n"
     ]
    },
    {
     "name": "stderr",
     "output_type": "stream",
     "text": [
      "  0%|          | 0/5 [00:00<?, ?it/s]"
     ]
    },
    {
     "name": "stdout",
     "output_type": "stream",
     "text": [
      "337 [17109, 1889554, 2600238, 2416397, 2574282, 2311433, 859990, 27659, 2311428, 64717, 280582, 2337742, 2311433, 2600238]\n",
      "94 [2206279, 2153378, 2706020, 2732562, 2732535, 2732562, 2574269, 2732535, 2258556, 53820, 1598456, 2732562, 2732535, 2626770]\n",
      "53 [2732575, 2732575, 2732510, 2705922, 2468590, 2705922, 2732575, 2732501, 2706039, 2705922, 2732575, 2732535, 2732528, 2574269]\n",
      "30 [2732510, 2732501, 2732535, 2732510, 2732575, 2732535, 2705922, 2732575, 2653250, 2732510, 2732528, 2732510, 2547884, 2706039]\n",
      "3 [2732583, 2705953, 2732583, 2732583, 2732583, 2732583, 2732583, 2705953, 2732583, 2732583, 2732583, 2732583, 2732583, 2732488]\n",
      "345 [1942475, 1889554, 33818, 2416397, 2574282, 1308444, 280624, 1836942, 2521261, 2390169, 2416397, 2337775, 2311433, 2179869]\n",
      "95 [2468669, 2679509, 1836909, 2732562, 2732535, 2732562, 2574269, 2732535, 2258556, 2468664, 2468583, 2732562, 2732535, 2626770]\n",
      "51 [2732535, 2732575, 2285179, 2732488, 2468590, 2705922, 2705922, 2732501, 2706039, 135252, 2732575, 2732535, 2547884, 2679509]\n",
      "23 [2732501, 2732501, 2732583, 2732510, 2732575, 2732535, 2732583, 2732575, 2653250, 2732535, 2732528, 2732510, 2732528, 2706039]\n",
      "3 [2732583, 2705953, 2732583, 2732583, 2732583, 2732583, 2732583, 2705953, 2732583, 2732583, 2732583, 2732583, 2732583, 2732535]\n",
      "443 [2732528, 2337742, 135597, 129854, 2653323, 2626728, 2311459, 2390131, 2626728, 2494961, 2494961, 135737, 1044649, 1360963]\n",
      "58 [2653260, 2468664, 2653311, 2600237, 2732528, 2547884, 2732583, 2600280, 2127137, 2732535, 2732535, 2705923, 2732535, 2679509]\n",
      "14 [2732583, 2732583, 2732528, 2732583, 2732535, 2732501, 2732488, 9324, 2600340, 2732583, 2732583, 2732583, 2732528, 2732583]\n",
      "2 [2732583, 2732583, 2732583, 2732583, 2732583, 2732583, 2732583, 2732583, 2732535, 2732583, 2732583, 2732583, 2732583, 2732510]\n",
      "0 [2732583, 2732583, 2732583, 2732583, 2732583, 2732583, 2732583, 2732583, 2732583, 2732583, 2732583, 2732583, 2732583, 2732583]\n"
     ]
    },
    {
     "name": "stderr",
     "output_type": "stream",
     "text": [
      "  0%|          | 0/5 [00:00<?, ?it/s]"
     ]
    },
    {
     "name": "stdout",
     "output_type": "stream",
     "text": [
      "375 [1598501, 1995280, 2626728, 2311433, 2074415, 2600356, 135293, 1440229, 2574240, 44001, 135791, 2390169, 2416397, 2653281]\n",
      "95 [2206279, 2679509, 2653291, 2732562, 2732535, 2705923, 2494953, 2732501, 1704174, 2206279, 2732528, 2468664, 42312, 2100762]\n",
      "37 [2732575, 2732575, 2285179, 2732488, 2732510, 2574269, 2732535, 2732583, 2732562, 2127137, 2547797, 2732575, 2732583, 2706039]\n",
      "8 [2732583, 2732528, 2732583, 2732510, 2732583, 2732583, 2732583, 2732535, 2705922, 2732583, 2732583, 2732510, 2732583, 2732535]\n",
      "2 [2732583, 2732583, 2732583, 2732583, 2732583, 2732583, 2732583, 2705953, 2732583, 2732583, 2732583, 2732583, 2732583, 2705953]\n",
      "381 [1071064, 127698, 115386, 2311433, 2074415, 2600356, 2574282, 1678033, 2311433, 1730661, 2547810, 2390169, 2416397, 2416397]\n",
      "85 [2521310, 2732535, 2732510, 2732562, 2732535, 2206279, 2705918, 2547820, 2285120, 2547884, 2732528, 2521310, 42312, 2468664]\n",
      "39 [2732535, 2732575, 2285181, 2732488, 2732510, 2705923, 2653338, 2732583, 2732562, 131227, 2547797, 2732535, 2732583, 2705953]\n",
      "11 [2732583, 2732528, 2732583, 2732510, 2732583, 2732583, 2732583, 2732535, 2732528, 2732583, 2732583, 2732510, 2732583, 2732575]\n",
      "1 [2732583, 2732583, 2732583, 2732583, 2732583, 2732583, 2732583, 2732583, 2732583, 2732583, 2732583, 2732583, 2732583, 2732535]\n",
      "474 [64717, 2547810, 2337742, 2521229, 73846, 2626728, 97748, 1942437, 2285133, 2521228, 1651461, 2021744, 2311459, 2494961]\n",
      "33 [2732535, 2732535, 2732535, 2311433, 2732528, 2679509, 2732535, 1651526, 2732535, 2732535, 2547884, 2732583, 2732535, 2732528]\n",
      "10 [2732583, 2732583, 2732528, 2732583, 2732583, 2732583, 2732583, 2732528, 2732562, 2732583, 2732583, 2732583, 2732528, 2547884]\n",
      "0 [2732583, 2732583, 2732583, 2732583, 2732583, 2732583, 2732583, 2732583, 2732583, 2732583, 2732583, 2732583, 2732583, 2732583]\n",
      "0 [2732583, 2732583, 2732583, 2732583, 2732583, 2732583, 2732583, 2732583, 2732583, 2732583, 2732583, 2732583, 2732583, 2732583]\n"
     ]
    },
    {
     "name": "stderr",
     "output_type": "stream",
     "text": [
      "  0%|          | 0/5 [00:00<?, ?it/s]"
     ]
    },
    {
     "name": "stdout",
     "output_type": "stream",
     "text": [
      "395 [2363976, 2285133, 131949, 2390169, 2100698, 77213, 1255639, 2494956, 1809960, 1889515, 2626728, 2337775, 1387381, 127698]\n",
      "78 [2732535, 2732535, 2732510, 2468664, 2732535, 2732535, 2705918, 2626742, 2574276, 2547884, 2732528, 2679587, 2285179, 42301]\n",
      "33 [2732575, 1783694, 2653311, 2285126, 2732575, 2705923, 2732535, 2732583, 2732562, 2285126, 2626710, 2732535, 2732583, 2337779]\n",
      "10 [2732528, 2732575, 2732583, 2732583, 2732510, 2732583, 2732583, 2732535, 2732528, 2732583, 2732583, 2732583, 2732583, 2732575]\n",
      "1 [2732583, 2732583, 2732583, 2732583, 2732583, 2732583, 2732583, 2732583, 2705923, 2732583, 2732583, 2732583, 2732583, 2732583]\n",
      "483 [74647, 859963, 2600238, 2127148, 1678033, 2626728, 2074415, 76427, 135597, 2521229, 1651461, 124438, 96408, 2600234]\n",
      "29 [2732535, 2732528, 2732535, 2732583, 2732528, 2679509, 2732535, 2547884, 2732535, 2732535, 2547884, 2732535, 2732528, 2679587]\n",
      "4 [2732583, 2732583, 2732528, 2732583, 2732583, 2732583, 2732583, 2732528, 2732575, 2732583, 2732583, 2732583, 2732583, 2732535]\n",
      "1 [2732583, 2732583, 2732583, 2732583, 2732583, 2732583, 2732583, 2732583, 2732583, 2732583, 2732583, 2732583, 2732583, 2732528]\n",
      "0 [2732583, 2732583, 2732583, 2732583, 2732583, 2732583, 2732583, 2732583, 2732583, 2732583, 2732583, 2732583, 2732583, 2732583]\n",
      "467 [2547839, 2626728, 2100792, 127451, 2653323, 2232306, 97748, 1942437, 2547806, 2521228, 2705933, 18453, 2311459, 2494961]\n",
      "38 [2732535, 2732535, 2732535, 1889549, 2732535, 2679509, 2732535, 1651526, 2732535, 2732535, 2258556, 2732583, 2732535, 2732528]\n",
      "11 [2732583, 2732583, 2732528, 2732583, 2732528, 2732583, 2732583, 2732528, 2732562, 2732583, 2732583, 2732583, 2732528, 2547884]\n",
      "1 [2732583, 2732583, 2732583, 2732583, 2732583, 2732583, 2732583, 2732583, 2732528, 2732583, 2732583, 2732583, 2732583, 2732583]\n",
      "0 [2732583, 2732583, 2732583, 2732583, 2732583, 2732583, 2732583, 2732583, 2732583, 2732583, 2732583, 2732583, 2732583, 2732583]\n"
     ]
    },
    {
     "name": "stderr",
     "output_type": "stream",
     "text": [
      "  0%|          | 0/5 [00:00<?, ?it/s]"
     ]
    },
    {
     "name": "stdout",
     "output_type": "stream",
     "text": [
      "462 [2258513, 2232306, 1413981, 2521232, 2574276, 2232306, 1836942, 2732488, 2547806, 1281941, 1097361, 135791, 2311459, 1281941]\n",
      "41 [2732535, 2732535, 2732535, 464996, 2732528, 2679509, 2732583, 2653291, 2732535, 2732535, 2706026, 2732583, 2732535, 2653291]\n",
      "13 [2732583, 2732583, 2732528, 2732583, 2732583, 2732583, 2732535, 2521315, 2732562, 2732583, 2732535, 2732583, 2732528, 2547884]\n",
      "1 [2732583, 2732583, 2732583, 2732583, 2732583, 2732583, 2732583, 2732583, 2732528, 2732583, 2732583, 2732583, 2732583, 2732583]\n",
      "0 [2732583, 2732583, 2732583, 2732583, 2732583, 2732583, 2732583, 2732583, 2732583, 2732583, 2732583, 2732583, 2732583, 2732583]\n"
     ]
    },
    {
     "name": "stderr",
     "output_type": "stream",
     "text": [
      "  0%|          | 0/5 [00:00<?, ?it/s]"
     ]
    },
    {
     "name": "stdout",
     "output_type": "stream",
     "text": [
      "452 [51151, 2100698, 2337742, 2521232, 2574276, 2626728, 2311459, 2732488, 1044649, 2705933, 2494961, 58358, 2311459, 1202601]\n",
      "49 [2732535, 2732535, 2653311, 2732528, 2732528, 2679509, 2732583, 2600280, 2732528, 2732535, 2732535, 2705923, 2732535, 2653291]\n",
      "15 [2732583, 2732583, 2732528, 2732583, 2732583, 2732583, 2732488, 2521315, 2732562, 2732583, 2732583, 2732583, 2732528, 2547884]\n",
      "1 [2732583, 2732583, 2732583, 2732583, 2732583, 2732583, 2732583, 2732583, 2732488, 2732583, 2732583, 2732583, 2732583, 2732583]\n",
      "0 [2732583, 2732583, 2732583, 2732583, 2732583, 2732583, 2732583, 2732583, 2732583, 2732583, 2732583, 2732583, 2732583, 2732583]\n"
     ]
    },
    {
     "name": "stderr",
     "output_type": "stream",
     "text": [
      "100%|██████████| 5/5 [04:12<00:00, 50.60s/it]\n",
      "100%|██████████| 5/5 [04:20<00:00, 52.08s/it]\n",
      "100%|██████████| 5/5 [04:20<00:00, 52.14s/it]\n",
      "100%|██████████| 5/5 [04:21<00:00, 52.26s/it]\n",
      "100%|██████████| 5/5 [04:27<00:00, 53.59s/it]\n",
      "100%|██████████| 5/5 [04:29<00:00, 53.96s/it]\n",
      "100%|██████████| 5/5 [04:30<00:00, 54.14s/it]\n",
      "100%|██████████| 5/5 [04:30<00:00, 54.06s/it]\n",
      "100%|██████████| 5/5 [04:30<00:00, 54.05s/it]\n",
      "100%|██████████| 5/5 [04:32<00:00, 54.57s/it]\n",
      "100%|██████████| 5/5 [04:29<00:00, 53.87s/it]\n",
      "100%|██████████| 5/5 [04:27<00:00, 53.43s/it]\n",
      "100%|██████████| 5/5 [04:34<00:00, 54.80s/it]\n",
      "100%|██████████| 5/5 [04:35<00:00, 55.07s/it]\n",
      "100%|██████████| 5/5 [04:34<00:00, 54.87s/it]\n",
      "100%|██████████| 5/5 [04:32<00:00, 54.42s/it]\n",
      "100%|██████████| 5/5 [04:32<00:00, 54.59s/it]\n",
      "100%|██████████| 5/5 [04:33<00:00, 54.68s/it]\n",
      "100%|██████████| 5/5 [04:34<00:00, 54.95s/it]\n",
      "100%|██████████| 5/5 [04:31<00:00, 54.27s/it]\n",
      "100%|██████████| 5/5 [04:36<00:00, 55.24s/it]\n",
      "100%|██████████| 5/5 [04:36<00:00, 55.40s/it]\n",
      "100%|██████████| 5/5 [04:36<00:00, 55.39s/it]\n",
      "100%|██████████| 5/5 [04:37<00:00, 55.49s/it]\n",
      "100%|██████████| 5/5 [04:36<00:00, 55.37s/it]\n",
      "100%|██████████| 5/5 [04:39<00:00, 55.81s/it]\n",
      "100%|██████████| 5/5 [04:37<00:00, 55.50s/it]\n",
      "100%|██████████| 5/5 [04:35<00:00, 55.20s/it]\n",
      "100%|██████████| 5/5 [04:35<00:00, 55.08s/it]\n",
      "100%|██████████| 5/5 [04:34<00:00, 54.82s/it]\n",
      "100%|██████████| 5/5 [04:40<00:00, 56.18s/it]\n",
      "100%|██████████| 5/5 [04:36<00:00, 55.32s/it]\n",
      "100%|██████████| 5/5 [04:43<00:00, 56.65s/it]\n",
      "100%|██████████| 5/5 [04:40<00:00, 56.10s/it]\n",
      "100%|██████████| 5/5 [04:41<00:00, 56.27s/it]\n",
      "100%|██████████| 5/5 [04:40<00:00, 56.05s/it]\n",
      "100%|██████████| 5/5 [04:40<00:00, 56.03s/it]\n",
      "100%|██████████| 5/5 [04:39<00:00, 55.94s/it]\n",
      "100%|██████████| 5/5 [04:40<00:00, 56.02s/it]\n"
     ]
    },
    {
     "name": "stdout",
     "output_type": "stream",
     "text": [
      "1.7314098750743605\n",
      "605.7434060573578\n"
     ]
    },
    {
     "name": "stderr",
     "output_type": "stream",
     "text": [
      "100%|██████████| 5/5 [04:42<00:00, 56.42s/it]\n"
     ]
    }
   ],
   "source": [
    "start = time.time()\n",
    "opt_radius, radius_paths = cover_fac_kary(potential_facilities, location_directory, pid_assignment, m, k_facs, lower_limit = 0.5, upper_limit = 3, n_jobs = 40)\n",
    "end = time.time()\n",
    "\n",
    "print(end-start)"
   ]
  },
  {
   "cell_type": "code",
   "execution_count": 7,
   "metadata": {},
   "outputs": [
    {
     "name": "stdout",
     "output_type": "stream",
     "text": [
      "1.7314098750743605\n",
      "[[1176071, 2363976, 2626760, 2363976, 728600, 1334708, 70270, 1730712, 2127179, 2494984, 2311433, 17109, 2100792, 333417], [2732562, 1440146, 2679587, 2521309, 2732535, 2732562, 2047840, 2705977, 596644, 2653323, 56823, 2232373, 2732535, 2416387], [2732535, 2732562, 2732535, 2705922, 2732562, 2705922, 2732583, 2732501, 2285220, 2705922, 2732575, 2732535, 2732528, 2574269], [2732501, 2705922, 2732509, 2732510, 2468590, 2732535, 2285124, 2732562, 123144, 2732535, 2732510, 2732583, 2547884, 2706039], [2732583, 2705953, 2732583, 2732583, 2732583, 2732583, 2732583, 2705953, 2732583, 2732510, 2732583, 2732583, 2732583, 2732488]]\n"
     ]
    }
   ],
   "source": [
    "print(opt_radius)\n",
    "print(radius_paths)"
   ]
  },
  {
   "cell_type": "code",
   "execution_count": 26,
   "metadata": {},
   "outputs": [],
   "source": [
    "def calculate_assignment_cost(facilities, location_directory, pid_assignment, start, end):\n",
    "    max_dist = 0\n",
    "    for hr in range(start, end):\n",
    "        for pid, client in pid_assignment[hr]:\n",
    "            coord_client = (location_directory[client]['latitude'], location_directory[client]['longitude'])\n",
    "            client_cost = min([calculate_dist(coord_client, (location_directory[fac[hr-start]]['latitude'], location_directory[fac[hr-start]]['longitude'])) for fac in facilities])\n",
    "            if client_cost > max_dist:\n",
    "                max_dist = client_cost\n",
    "    return max_dist"
   ]
  },
  {
   "cell_type": "code",
   "execution_count": 27,
   "metadata": {},
   "outputs": [
    {
     "data": {
      "text/plain": [
       "1.731272254198698"
      ]
     },
     "execution_count": 27,
     "metadata": {},
     "output_type": "execute_result"
    }
   ],
   "source": [
    "calculate_assignment_cost(radius_paths, location_directory, pid_assignment, 6, 20)"
   ]
  }
 ],
 "metadata": {
  "kernelspec": {
   "display_name": "Python [conda env:.conda-fullymobile]",
   "language": "python",
   "name": "conda-env-.conda-fullymobile-py"
  },
  "language_info": {
   "codemirror_mode": {
    "name": "ipython",
    "version": 3
   },
   "file_extension": ".py",
   "mimetype": "text/x-python",
   "name": "python",
   "nbconvert_exporter": "python",
   "pygments_lexer": "ipython3",
   "version": "3.10.4"
  }
 },
 "nbformat": 4,
 "nbformat_minor": 4
}
