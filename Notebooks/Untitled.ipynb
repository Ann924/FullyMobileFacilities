{
 "cells": [
  {
   "cell_type": "code",
   "execution_count": 1,
   "metadata": {},
   "outputs": [],
   "source": [
    "%load_ext autoreload\n",
    "%autoreload 2"
   ]
  },
  {
   "cell_type": "code",
   "execution_count": 56,
   "metadata": {},
   "outputs": [],
   "source": [
    "def income_bracket_mapping(x, income_to_weight):\n",
    "    \n",
    "    for income, weight in income_to_weight.items():\n",
    "        if x>=income[0] and x<income[1]:\n",
    "            return weight\n",
    "\n",
    "def generate_weight_mapping(county_name, income_to_weight):\n",
    "    filename = PROJECT_ROOT/\"Data\"/f\"usa_va_{county_name}_adult_activity_location_assignment_week.csv\"\n",
    "    df_county = pd.read_csv(filename)[['pid', 'hid']]\n",
    "\n",
    "    filename = PROJECT_ROOT/\"Data\"/\"va_household.csv\"\n",
    "    df = pd.read_csv(filename)\n",
    "    df['income'] = df['hh_income']/df['hh_size']\n",
    "    \n",
    "    df['income_group'] = df['income'].apply(lambda x: income_bracket_mapping(x, income_to_weight))\n",
    "    \n",
    "    df_hid = df.set_index('hid')\n",
    "    df_county = df_county.join(df_hid, on='hid')\n",
    "    df_county = df_county[['hid', 'pid', 'income', 'income_group']].groupby(['pid']).mean()\n",
    "    \n",
    "    print([sum(df_county['income_group']==val) for val in income_to_weight.values()])\n",
    "    \n",
    "    return df_county['income_group'].to_dict()"
   ]
  },
  {
   "cell_type": "code",
   "execution_count": 57,
   "metadata": {},
   "outputs": [
    {
     "name": "stdout",
     "output_type": "stream",
     "text": [
      "[8320, 37750, 28183]\n"
     ]
    }
   ],
   "source": [
    "pid_weight_map = generate_weight_mapping(\"albemarle\", {(0, 10275):1, (10275, 41775):2, (41775, 1e10):3})"
   ]
  },
  {
   "cell_type": "code",
   "execution_count": 67,
   "metadata": {},
   "outputs": [],
   "source": [
    "def cover_pid_group(fac_loc, loc_assignment, location_directory, pid_weight_map, radius):\n",
    "    \n",
    "    cover_count = 0\n",
    "    fac_coord = (location_directory[fac_loc][\"latitude\"], location_directory[fac_loc][\"longitude\"])\n",
    "    \n",
    "    coverage = set()\n",
    "    \n",
    "    for ind in range(len(loc_assignment)):\n",
    "        loc = loc_assignment[ind]\n",
    "        pid = loc[0]\n",
    "        pid_weight = pid_weight_map[pid]\n",
    "        lid = loc[1]\n",
    "        \n",
    "        lid_coord = (location_directory[lid][\"latitude\"], location_directory[lid][\"longitude\"])\n",
    "        if calculate_dist(fac_coord, lid_coord) <= pid_weight * radius:\n",
    "            cover_count += 1\n",
    "            coverage.add(loc[0])\n",
    "\n",
    "    return cover_count, coverage\n",
    "\n",
    "def initialize_timestep_group(pf, reachable, loc_assignments, location_directory, pid_weight_map, radius):\n",
    "    \n",
    "    if len(reachable) == 0:\n",
    "        pf_count = 0\n",
    "        coverage = set()\n",
    "    else:\n",
    "        pf_count, coverage = cover_pid_group(pf, loc_assignments, location_directory, pid_weight_map, radius)\n",
    "    \n",
    "    return (pf, pf_count, coverage)\n",
    "\n",
    "def cover_fac_sequential_r_group(potential_facilities, location_directory, pid_assignment, pid_weight_map, reachable_dict, k_facs, radius):\n",
    "    \n",
    "    paths = []\n",
    "    total_coverage = 0\n",
    "    \n",
    "    START_OFFSET = min(pid_assignment.keys())\n",
    "    END_TIME = max(pid_assignment.keys())\n",
    "    \n",
    "    dp = {START_OFFSET-1: {pf: {\"count\": 0, \"path\": []} for pf in potential_facilities}}\n",
    "    fac_client = {}\n",
    "\n",
    "    for k in range(0, k_facs):\n",
    "        \n",
    "        for hr in range(START_OFFSET, END_TIME+1):\n",
    "            \n",
    "            dp[hr] = {}\n",
    "            loc_assignments = pid_assignment[hr]\n",
    "            \n",
    "            if k==0:\n",
    "                results = [initialize_timestep_group(pf, [r for r in reachable_dict[pf] if r in location_directory.keys()], loc_assignments, location_directory, pid_weight_map, radius) for pf in potential_facilities]\n",
    "                \n",
    "                fac_client[hr] = {fac: {\"count\": count, \"coverage\": coverage} for fac, count, coverage in results}\n",
    "\n",
    "            chosen_max = [fill_timestep(pf, [r for r in reachable_dict[pf] if r in location_directory.keys()], loc_assignments, dp[hr-1]) for pf in potential_facilities]\n",
    "            \n",
    "            for pf, max_count, max_path in chosen_max:\n",
    "                dp[hr][pf] = {\"count\":max_count + fac_client[hr][pf][\"count\"],\n",
    "                                 \"path\": max_path + [pf]}\n",
    "\n",
    "        best_count, best_path = max([(dp[hr][fac][\"count\"], dp[hr][fac][\"path\"]) for fac in potential_facilities])\n",
    "        paths.append(best_path)\n",
    "\n",
    "        for i, fac in enumerate(best_path):\n",
    "            \n",
    "            h = i + START_OFFSET\n",
    "            \n",
    "            covered_clients = fac_client[h][fac][\"coverage\"]\n",
    "            \n",
    "            for pf in potential_facilities:\n",
    "                fac_client[h][pf][\"coverage\"] = fac_client[h][pf][\"coverage\"].difference(covered_clients)\n",
    "                fac_client[h][pf][\"count\"] = len(fac_client[h][pf][\"coverage\"])\n",
    "            \n",
    "            fac_client[h][fac][\"coverage\"] = set()\n",
    "            fac_client[h][fac][\"count\"] = 0\n",
    "        \n",
    "        total_coverage += best_count\n",
    "    \n",
    "    return total_coverage, paths\n",
    "\n",
    "def cover_fac_kary_group(potential_facilities, location_directory, pid_assignment, pid_weight_map, m, k_facs, lower_limit = 0.5, upper_limit = 3, n_jobs = 40):\n",
    "\n",
    "    l = lower_limit\n",
    "    r = upper_limit\n",
    "    \n",
    "    epsilon = 2e-3\n",
    "    alpha = 1\n",
    "    \n",
    "    radius_paths = []\n",
    "    opt_radius = r\n",
    "    total_clients = sum(len(val) for val in pid_assignment.values())\n",
    "    print(\"TOTAL CLIENTS: \", total_clients)\n",
    "    \n",
    "    reachable_dict = calculate_reachable(potential_facilities, location_directory, m)\n",
    "    print(\"---CALCULATED REACHABLE FACILITIES---\")\n",
    "    \n",
    "    while r-l > epsilon:\n",
    "        \n",
    "        partition = [l + i*(r - l)/(n_jobs+1) for i in range(n_jobs)]\n",
    "        \n",
    "        result = Parallel(n_jobs=n_jobs)(delayed(cover_fac_sequential_r_group)(potential_facilities, location_directory, pid_assignment, pid_weight_map, reachable_dict, k_facs, mid) for mid in partition)\n",
    "        \n",
    "        coverage = [result[i][0] for i in range(n_jobs)]\n",
    "        \n",
    "        if max(coverage) < total_clients:\n",
    "            l = l + n_jobs*(r - l)/(n_jobs+1)\n",
    "        else:\n",
    "            for i in range(n_jobs):\n",
    "                if coverage[i] >= total_clients:\n",
    "                    radius_paths = result[i][1]\n",
    "                    opt_radius = l + i*(r - l)/(n_jobs+1)\n",
    "                    l = max(l, opt_radius - (r-l)/(n_jobs+1))\n",
    "                    r = opt_radius\n",
    "                    print(opt_radius)\n",
    "                    break\n",
    "    \n",
    "    return opt_radius, radius_paths"
   ]
  },
  {
   "cell_type": "code",
   "execution_count": 68,
   "metadata": {},
   "outputs": [],
   "source": [
    "def calculate_assignment_group(facilities, location_directory, pid_assignment, pid_weight_map):\n",
    "    max_dist = 0\n",
    "    \n",
    "    group_assignment_costs = {}\n",
    "    for val in pid_weight_map.values():\n",
    "        group_assignment_costs[val] = {}\n",
    "    \n",
    "    START = min(pid_assignment.keys())\n",
    "    END = max(pid_assignment.keys())\n",
    "    \n",
    "    for hr in range(START, END):\n",
    "        for pid, client in pid_assignment[hr]:\n",
    "            \n",
    "            group = pid_weight_map[pid]\n",
    "            \n",
    "            coord_client = (location_directory[client]['latitude'], location_directory[client]['longitude'])\n",
    "            client_cost = min([calculate_dist(coord_client, (location_directory[fac[hr-START]]['latitude'], location_directory[fac[hr-START]]['longitude'])) for fac in facilities])\n",
    "            \n",
    "            group_assignment_costs[group][pid] = client_cost\n",
    "            \n",
    "            if client_cost > max_dist:\n",
    "                max_dist = client_cost\n",
    "            \n",
    "    return max_dist, group_assignment_costs"
   ]
  },
  {
   "cell_type": "code",
   "execution_count": 69,
   "metadata": {},
   "outputs": [
    {
     "name": "stdout",
     "output_type": "stream",
     "text": [
      "3142 13039 517\n"
     ]
    }
   ],
   "source": [
    "from FullyMobile.data import *\n",
    "from FullyMobile.algorithm import *\n",
    "from FullyMobile.utils import *\n",
    "from FullyMobile import PROJECT_ROOT\n",
    "import json\n",
    "import os\n",
    "import time\n",
    "\n",
    "day = 5\n",
    "start = 6\n",
    "end = 20\n",
    "\n",
    "potential_facilities, location_directory, pid_assignment = get_data(\"charlottesville_city\", day, start, end)\n",
    "print(len(potential_facilities), len(location_directory), sum(len(val) for val in pid_assignment.values()))"
   ]
  },
  {
   "cell_type": "code",
   "execution_count": 70,
   "metadata": {},
   "outputs": [
    {
     "name": "stdout",
     "output_type": "stream",
     "text": [
      "[7584, 15443, 10129]\n",
      "TOTAL CLIENTS:  517\n",
      "---CALCULATED REACHABLE FACILITIES---\n",
      "1.2317073170731707\n",
      "1.215348007138608\n"
     ]
    }
   ],
   "source": [
    "pid_weight_map = generate_weight_mapping(\"charlottesville_city\", {(0, 10275):1, (10275, 41775):2, (41775, 1e10):3})\n",
    "\n",
    "m = 5\n",
    "k_facs = 5\n",
    "\n",
    "radius, facs = cover_fac_kary_group(potential_facilities, location_directory, pid_assignment, pid_weight_map, m, k_facs)\n",
    "obj, group_obj = calculate_assignment_group(facs, location_directory, pid_assignment, pid_weight_map)"
   ]
  },
  {
   "cell_type": "code",
   "execution_count": 71,
   "metadata": {},
   "outputs": [
    {
     "name": "stdout",
     "output_type": "stream",
     "text": [
      "3.574543654538191\n"
     ]
    }
   ],
   "source": [
    "print(obj)"
   ]
  },
  {
   "cell_type": "code",
   "execution_count": 73,
   "metadata": {},
   "outputs": [
    {
     "name": "stdout",
     "output_type": "stream",
     "text": [
      "TOTAL CLIENTS:  517\n",
      "---CALCULATED REACHABLE FACILITIES---\n",
      "1.7804878048780488\n",
      "1.7314098750743605\n"
     ]
    },
    {
     "ename": "NameError",
     "evalue": "name 'facilities' is not defined",
     "output_type": "error",
     "traceback": [
      "\u001b[0;31m---------------------------------------------------------------------------\u001b[0m",
      "\u001b[0;31mNameError\u001b[0m                                 Traceback (most recent call last)",
      "Input \u001b[0;32mIn [73]\u001b[0m, in \u001b[0;36m<cell line: 3>\u001b[0;34m()\u001b[0m\n\u001b[1;32m      1\u001b[0m \u001b[38;5;28;01mfrom\u001b[39;00m \u001b[38;5;21;01mFullyMobile\u001b[39;00m\u001b[38;5;21;01m.\u001b[39;00m\u001b[38;5;21;01malgorithm\u001b[39;00m \u001b[38;5;28;01mimport\u001b[39;00m \u001b[38;5;241m*\u001b[39m\n\u001b[1;32m      2\u001b[0m radius, facs \u001b[38;5;241m=\u001b[39m cover_fac_kary(potential_facilities, location_directory, pid_assignment, m, k_facs)\n\u001b[0;32m----> 3\u001b[0m obj, unweighted_group_obj \u001b[38;5;241m=\u001b[39m calculate_assignment_group(\u001b[43mfacilities\u001b[49m, location_directory, pid_assignment, pid_weight_map)\n\u001b[1;32m      4\u001b[0m \u001b[38;5;28mprint\u001b[39m(obj)\n",
      "\u001b[0;31mNameError\u001b[0m: name 'facilities' is not defined"
     ]
    }
   ],
   "source": [
    "from FullyMobile.algorithm import *\n",
    "radius, facs = cover_fac_kary(potential_facilities, location_directory, pid_assignment, m, k_facs)"
   ]
  },
  {
   "cell_type": "code",
   "execution_count": 74,
   "metadata": {},
   "outputs": [
    {
     "name": "stdout",
     "output_type": "stream",
     "text": [
      "1.731272254198698\n"
     ]
    }
   ],
   "source": [
    "obj, unweighted_group_obj = calculate_assignment_group(facs, location_directory, pid_assignment, pid_weight_map)\n",
    "print(obj)"
   ]
  },
  {
   "cell_type": "code",
   "execution_count": 80,
   "metadata": {},
   "outputs": [],
   "source": [
    "dict_frame = {\"obj\": [], \"class\": [], \"weighted\": []}\n",
    "\n",
    "for g in group_obj.keys():\n",
    "    for pid, pid_obj in group_obj[g].items():\n",
    "        dict_frame[\"class\"].append(str(int(g)))\n",
    "        dict_frame[\"obj\"].append(pid_obj)\n",
    "        dict_frame[\"weighted\"].append(True)\n",
    "\n",
    "for g in unweighted_group_obj.keys():\n",
    "    for pid, pid_obj in unweighted_group_obj[g].items():\n",
    "        dict_frame[\"class\"].append(str(int(g)))\n",
    "        dict_frame[\"obj\"].append(pid_obj)\n",
    "        dict_frame[\"weighted\"].append(False)"
   ]
  },
  {
   "cell_type": "code",
   "execution_count": 81,
   "metadata": {},
   "outputs": [
    {
     "data": {
      "text/plain": [
       "<AxesSubplot:xlabel='obj', ylabel='class'>"
      ]
     },
     "execution_count": 81,
     "metadata": {},
     "output_type": "execute_result"
    },
    {
     "data": {
      "image/png": "[encoded data removed]",
      "text/plain": [
       "<Figure size 640x480 with 1 Axes>"
      ]
     },
     "metadata": {},
     "output_type": "display_data"
    }
   ],
   "source": [
    "import seaborn as sns\n",
    "\n",
    "df = pd.DataFrame(dict_frame)\n",
    "\n",
    "sns.boxplot(data=df, x=\"obj\", y=\"class\", hue=\"weighted\")"
   ]
  },
  {
   "cell_type": "code",
   "execution_count": null,
   "metadata": {},
   "outputs": [],
   "source": [
    "from FullyMobile.algorithm import *\n",
    "radius, facs = cover_fac_kary_group(potential_facilities, location_directory, pid_assignment, m, k_facs)\n",
    "obj, group_obj = calculate_assignment_group(facilities, location_directory, pid_assignment, pid_weight_map)"
   ]
  },
  {
   "cell_type": "code",
   "execution_count": 2,
   "metadata": {},
   "outputs": [
    {
     "name": "stdout",
     "output_type": "stream",
     "text": [
      "6711 35645 1256\n"
     ]
    }
   ],
   "source": [
    "from FullyMobile.data import *\n",
    "from FullyMobile.algorithm import *\n",
    "from FullyMobile.utils import *\n",
    "from FullyMobile import PROJECT_ROOT\n",
    "import json\n",
    "import os\n",
    "import time\n",
    "\n",
    "day = 5\n",
    "start = 6\n",
    "end = 20\n",
    "\n",
    "potential_facilities, location_directory, pid_assignment = get_data(\"albemarle\", day, start, end, random_state=80830)\n",
    "old_assign = pid_assignment\n",
    "print(len(potential_facilities), len(location_directory), sum(len(val) for val in pid_assignment.values()))"
   ]
  },
  {
   "cell_type": "code",
   "execution_count": null,
   "metadata": {},
   "outputs": [],
   "source": []
  },
  {
   "cell_type": "code",
   "execution_count": 3,
   "metadata": {},
   "outputs": [
    {
     "name": "stdout",
     "output_type": "stream",
     "text": [
      "8.101782226562499 [98560, 1703952, 1704433, 98326, 67518]\n",
      "8.953216552734373 [98560, 1703952, 1704433, 65652, 67518]\n",
      "12.680822753906249 [333687, 1624843, 1704433, 98326, 67518]\n",
      "8.067773437499998 [98560, 32804, 1704433, 98326, 67518]\n",
      "10.581994628906251 [517468, 32804, 1704433, 98326, 67518]\n",
      "8.020404052734373 [77416, 32804, 1704433, 98371, 517396]\n",
      "7.844287109374999 [32896, 32804, 1704433, 98326, 1704324]\n",
      "7.912304687499999 [32896, 622808, 1704433, 98326, 1704324]\n",
      "8.786816406249999 [1703979, 32804, 2732780, 98326, 622922]\n",
      "8.232958984375 [1703979, 32804, 34741, 98326, 622922]\n",
      "7.094879150390623 [1703979, 32804, 34741, 98326, 1704324]\n",
      "6.977062988281249 [1703979, 32804, 1704433, 98326, 1704324]\n",
      "8.292474365234375 [1703979, 32804, 1704433, 98345, 1704324]\n",
      "7.108239746093749 [1703979, 32804, 1810240, 32796, 1704324]\n",
      "67.71955190164675\n"
     ]
    }
   ],
   "source": [
    "facs = iterative_supplier(potential_facilities, location_directory, pid_assignment, 5, 5, lower_limit = 0.1, upper_limit = 20)\n",
    "print(calculate_assignment_cost(facs, location_directory, pid_assignment))"
   ]
  },
  {
   "cell_type": "code",
   "execution_count": 7,
   "metadata": {},
   "outputs": [],
   "source": [
    "facilities = facs"
   ]
  },
  {
   "cell_type": "code",
   "execution_count": 13,
   "metadata": {},
   "outputs": [
    {
     "name": "stdout",
     "output_type": "stream",
     "text": [
      "7.404081625669087 (38.0851947721032, -78.2433019604613) (38.05423, -78.31818)\n",
      "8.021067556934971 (37.9974202429428, -78.3746123197011) (38.05423, -78.31818)\n",
      "11.789023060999934 (37.9902669512309, -78.7860372409287) (37.956540000000096, -78.65853)\n",
      "17.017359214615954 (37.8827270284028, -78.4470153350547) (38.0317900000001, -78.49098)\n",
      "17.172989196055966 (38.13516, -78.70483) (38.1392035, -78.508542)\n",
      "18.41874159210206 (38.0613643472414, -78.7564774362041) (37.9288884380528, -78.6302972073391)\n",
      "67.71955190164675 (37.2646800000001, -78.41151) (37.8467325, -78.6375665)\n"
     ]
    }
   ],
   "source": [
    "max_dist = 0\n",
    "\n",
    "START = min(pid_assignment.keys())\n",
    "END = max(pid_assignment.keys())\n",
    "\n",
    "for hr in range(START, END):\n",
    "    for pid, client in pid_assignment[hr]:\n",
    "        coord_client = (location_directory[client]['latitude'], location_directory[client]['longitude'])\n",
    "        \n",
    "        min_pair = (10e9, -1)\n",
    "        for fac in facilities:\n",
    "            coord_fac = (location_directory[fac[hr-START]]['latitude'], location_directory[fac[hr-START]]['longitude'])\n",
    "            dist = calculate_dist(coord_client, coord_fac)\n",
    "            if dist<min_pair[0]:\n",
    "                min_pair = (dist, coord_fac)\n",
    "        \n",
    "        if min_pair[0] > max_dist:\n",
    "            max_dist = min_pair[0]\n",
    "            print(max_dist, coord_client, min_pair[1])"
   ]
  },
  {
   "cell_type": "code",
   "execution_count": 12,
   "metadata": {},
   "outputs": [],
   "source": [
    "with open(PROJECT_ROOT/\"Experiments\"/\"output\"/\"movement_sensitivity\"/\"baseline\"/\"albe_movement_budget_pt2_85745.json\") as f:\n",
    "    data = json.load(f)\n",
    "\n",
    "with open(PROJECT_ROOT/\"Experiments\"/\"output\"/\"movement_sensitivity\"/\"baseline\"/\"albe_movement_budget_pt3_85745.json\") as f:\n",
    "    data_supp = json.load(f)\n",
    "    \n",
    "with open(PROJECT_ROOT/\"Experiments\"/\"output\"/\"movement_sensitivity\"/\"baseline\"/\"albe_movement_budget_pt2_85745_fixed.json\", 'w') as f:\n",
    "    total_runs = data[\"baseline_runs\"]\n",
    "    total_runs[\"7.5\"] = data_supp[\"baseline_runs\"][\"7.5\"]\n",
    "    total_runs[\"8.0\"] = data_supp[\"baseline_runs\"][\"8.0\"]\n",
    "    data_supp = json.dump({\"seed\": data[\"seed\"], \"baseline_runs\": total_runs}, f)"
   ]
  },
  {
   "cell_type": "code",
   "execution_count": 4,
   "metadata": {},
   "outputs": [],
   "source": [
    "def calculate_capacity_redistribution(facilities, location_directory, pid_assignment):\n",
    "    max_dist = 0\n",
    "    \n",
    "    START = min(pid_assignment.keys())\n",
    "    END = max(pid_assignment.keys())\n",
    "    \n",
    "    for hr in range(START, END):\n",
    "        clients = set(client[1] for client in pid_assignment[hr])\n",
    "        radius = redistribute([facilities[i][hr-START] for i in range(len(facilities))], location_directory, clients)\n",
    "        \n",
    "        if radius > max_dist:\n",
    "            max_dist = radius\n",
    "        print(hr, radius)\n",
    "    \n",
    "    return max_dist"
   ]
  },
  {
   "cell_type": "code",
   "execution_count": 27,
   "metadata": {},
   "outputs": [],
   "source": [
    "import math\n",
    "\n",
    "def redistribute(facilities, location_directory, clients):\n",
    "    facility_to_clients = {fac:[] for fac in facilities}\n",
    "    client_facility_distances = {}\n",
    "    \n",
    "    max_dist = 0\n",
    "    \n",
    "    for c in clients:\n",
    "        coord_client = (location_directory[c]['latitude'], location_directory[c]['longitude'])\n",
    "        \n",
    "        client_facility_distances[c] = {}\n",
    "        \n",
    "        min_fac = (10e9, -1)\n",
    "        for fac in facilities:\n",
    "            coord_fac = (location_directory[fac]['latitude'], location_directory[fac]['longitude'])\n",
    "            distance = calculate_dist(coord_client, coord_fac)\n",
    "            if distance < min_fac[0]:\n",
    "                min_fac = (distance, fac)\n",
    "            \n",
    "            client_facility_distances[c][fac] = distance\n",
    "        \n",
    "        facility_to_clients[min_fac[1]].append(c)\n",
    "        \n",
    "        if min_fac[0] > max_dist:\n",
    "            max_dist = min_fac[0]\n",
    "    \n",
    "    constraint = math.ceil(len(clients)/len(facilities))\n",
    "    CAPACITY = {fac: constraint*facilities.count(fac) for fac in facilities}\n",
    "    \n",
    "    facility_counts = {fac: len(c) for fac, c in facility_to_clients.items()}\n",
    "    facility_excess = {fac: facility_counts[fac]-CAPACITY[fac] for fac in facility_counts.keys()}\n",
    "    print(facility_counts, CAPACITY)\n",
    "    \n",
    "    #print(facility_counts, facility_excess, CAPACITY)\n",
    "    \n",
    "    largest_fac = max(facility_excess, key=facility_excess.get)\n",
    "    \n",
    "    counter = 0\n",
    "    \n",
    "    while facility_counts[largest_fac] > CAPACITY[largest_fac]:\n",
    "        \n",
    "        redist_choice = []\n",
    "        for c in facility_to_clients[largest_fac]:\n",
    "            options = [(val, key) for key, val in client_facility_distances[c].items() if key!=largest_fac and facility_excess[largest_fac]-facility_excess[key]>1]\n",
    "            if len(options)>0:\n",
    "                min_option = min(options)\n",
    "                redist_choice.append((min_option[0], min_option[1], c))\n",
    "\n",
    "        dist, fac, client = min(redist_choice)\n",
    "\n",
    "        facility_to_clients[largest_fac].remove(client)\n",
    "        facility_counts[largest_fac]-=1\n",
    "        facility_excess[largest_fac]-=1\n",
    "\n",
    "        facility_to_clients[fac].append(client)\n",
    "        facility_counts[fac]+=1\n",
    "        facility_excess[fac]+=1\n",
    "\n",
    "        counter += 1\n",
    "        \n",
    "        largest_fac = max(facility_excess, key=facility_excess.get)\n",
    "        \n",
    "    print(facility_counts, CAPACITY)\n",
    "    \n",
    "    return max(client_facility_distances[c][fac] for fac, assigned_clients in facility_to_clients.items() for c in assigned_clients)"
   ]
  },
  {
   "cell_type": "code",
   "execution_count": 28,
   "metadata": {},
   "outputs": [
    {
     "name": "stdout",
     "output_type": "stream",
     "text": [
      "INITIAL:  1.6881551203227323\n",
      "{2047809: 16, 2732562: 18, 123144: 7, 2732535: 6, 2732510: 20} {2047809: 14, 2732562: 14, 123144: 14, 2732535: 14, 2732510: 14}\n",
      "{2047809: 14, 2732562: 14, 123144: 14, 2732535: 11, 2732510: 14} {2047809: 14, 2732562: 14, 123144: 14, 2732535: 14, 2732510: 14}\n",
      "6 3.682934249609197\n",
      "{42305: 17, 623016: 11, 2732510: 13, 2732562: 5, 2732488: 8} {42305: 11, 623016: 11, 2732510: 11, 2732562: 11, 2732488: 11}\n",
      "{42305: 11, 623016: 11, 2732510: 11, 2732562: 10, 2732488: 11} {42305: 11, 623016: 11, 2732510: 11, 2732562: 11, 2732488: 11}\n",
      "7 3.3315601511679374\n",
      "{2653281: 20, 2732575: 5, 42182: 6, 2285179: 4, 2732583: 4} {2653281: 8, 2732575: 8, 42182: 8, 2285179: 8, 2732583: 8}\n",
      "{2653281: 8, 2732575: 8, 42182: 8, 2285179: 7, 2732583: 8} {2653281: 8, 2732575: 8, 42182: 8, 2285179: 8, 2732583: 8}\n",
      "8 3.600666627921077\n",
      "{2258513: 7, 2732510: 14, 2232373: 9, 2732535: 3, 2732488: 7} {2258513: 8, 2732510: 8, 2232373: 8, 2732535: 8, 2732488: 8}\n",
      "{2258513: 8, 2732510: 8, 2232373: 8, 2732535: 8, 2732488: 8} {2258513: 8, 2732510: 8, 2232373: 8, 2732535: 8, 2732488: 8}\n",
      "9 4.1008887782026475\n",
      "{1809960: 15, 2732562: 5, 2653250: 4, 2732583: 4} {1809960: 6, 2732562: 6, 2653250: 6, 2732583: 12}\n",
      "{1809960: 6, 2732562: 6, 2653250: 6, 2732583: 10} {1809960: 6, 2732562: 6, 2653250: 6, 2732583: 12}\n",
      "10 2.5738694995477314\n",
      "{1889596: 10, 2494997: 13, 2653250: 8, 2732562: 5, 2732583: 4} {1889596: 8, 2494997: 8, 2653250: 8, 2732562: 8, 2732583: 8}\n",
      "{1889596: 8, 2494997: 8, 2653250: 8, 2732562: 8, 2732583: 8} {1889596: 8, 2494997: 8, 2653250: 8, 2732562: 8, 2732583: 8}\n",
      "11 2.999380296193814\n",
      "{44001: 14, 2732562: 10, 2732535: 4, 86145: 3, 2705953: 3} {44001: 7, 2732562: 7, 2732535: 7, 86145: 7, 2705953: 7}\n",
      "{44001: 7, 2732562: 7, 2732535: 7, 86145: 7, 2705953: 6} {44001: 7, 2732562: 7, 2732535: 7, 86145: 7, 2705953: 7}\n",
      "12 3.1380330876032336\n",
      "{1044674: 18, 2074417: 8, 2285181: 5, 2732488: 5, 2732583: 2} {1044674: 8, 2074417: 8, 2285181: 8, 2732488: 8, 2732583: 8}\n",
      "{1044674: 8, 2074417: 8, 2285181: 6, 2732488: 8, 2732583: 8} {1044674: 8, 2074417: 8, 2285181: 8, 2732488: 8, 2732583: 8}\n",
      "13 2.830472425363534\n",
      "{2705923: 12, 280589: 11, 2732562: 3, 2732535: 4, 2732583: 2} {2705923: 7, 280589: 7, 2732562: 7, 2732535: 7, 2732583: 7}\n",
      "{2705923: 7, 280589: 7, 2732562: 5, 2732535: 7, 2732583: 6} {2705923: 7, 280589: 7, 2732562: 7, 2732535: 7, 2732583: 7}\n",
      "14 2.876525631605716\n",
      "{1916189: 9, 2732535: 5, 2732509: 10, 2732575: 5, 2732583: 3} {1916189: 7, 2732535: 7, 2732509: 7, 2732575: 7, 2732583: 7}\n",
      "{1916189: 7, 2732535: 6, 2732509: 7, 2732575: 7, 2732583: 5} {1916189: 7, 2732535: 7, 2732509: 7, 2732575: 7, 2732583: 7}\n",
      "15 2.7431374335620613\n",
      "{132080: 16, 122461: 6, 2732575: 15, 14470: 7, 2732535: 3} {132080: 10, 122461: 10, 2732575: 10, 14470: 10, 2732535: 10}\n",
      "{132080: 10, 122461: 8, 2732575: 10, 14470: 10, 2732535: 9} {132080: 10, 122461: 10, 2732575: 10, 14470: 10, 2732535: 10}\n",
      "16 3.523909622066004\n",
      "{1651461: 13, 1414011: 10, 2600360: 9, 2732535: 4, 2468706: 1} {1651461: 8, 1414011: 8, 2600360: 8, 2732535: 8, 2468706: 8}\n",
      "{1651461: 8, 1414011: 8, 2600360: 8, 2732535: 8, 2468706: 5} {1651461: 8, 1414011: 8, 2600360: 8, 2732535: 8, 2468706: 8}\n",
      "17 3.075332650400954\n",
      "{2653281: 11, 2706020: 13, 2732535: 5, 2732510: 11, 115840: 5} {2653281: 9, 2706020: 9, 2732535: 9, 2732510: 9, 115840: 9}\n",
      "{2653281: 9, 2706020: 9, 2732535: 9, 2732510: 9, 115840: 9} {2653281: 9, 2706020: 9, 2732535: 9, 2732510: 9, 115840: 9}\n",
      "18 3.965406077168303\n",
      "FINAL:  4.1008887782026475\n"
     ]
    }
   ],
   "source": [
    "from FullyMobile.data import get_data\n",
    "\n",
    "cover_runs = [run for run in os.listdir(PROJECT_ROOT/\"Experiments\"/\"output\"/\"budget_sensitivity\"/\"cover\") if run.endswith('.json') and \"cville\" in run]\n",
    "\n",
    "k = 5\n",
    "\n",
    "with open(PROJECT_ROOT/\"Experiments\"/\"output\"/\"budget_sensitivity\"/\"cover\"/cover_runs[9]) as f:\n",
    "    data = json.load(f)\n",
    "    seed = data[0]\n",
    "    data = data[1]\n",
    "    facilities = data[str(k)][\"paths\"]\n",
    "    \n",
    "    potential_facilities, location_directory, pid_assignment = get_data(\"charlottesville_city\", day, start, end, random_state=seed)\n",
    "    print(\"INITIAL: \", calculate_assignment_cost(facilities, location_directory, pid_assignment))\n",
    "    \n",
    "    #print(len(potential_facilities), len(location_directory), sum(len(val) for val in pid_assignment.values()))\n",
    "\n",
    "    print(\"FINAL: \", calculate_capacity_redistribution(facilities, location_directory, pid_assignment))"
   ]
  },
  {
   "cell_type": "code",
   "execution_count": 162,
   "metadata": {},
   "outputs": [],
   "source": [
    "def flow(potential_facilities, location_directory, pid_assignment, k, m, lower_limit = 0.1, upper_limit = 20):\n",
    "        \n",
    "    l = lower_limit\n",
    "    r = upper_limit\n",
    "\n",
    "    to_ret = -1\n",
    "    ret_facilities = []\n",
    "    EPSILON = 2e-3\n",
    "    \n",
    "    while r-l > EPSILON:\n",
    "    \n",
    "        mid = l + (r - l) / 2\n",
    "        \n",
    "        client_balls = {}\n",
    "        good_radius = True\n",
    "        \n",
    "        for t in pid_assignment.keys():\n",
    "            clients = {c for pid,c in pid_assignment[t]}\n",
    "            pairwise_disjoint = _check_radius(location_directory, mid, clients)\n",
    "            \n",
    "            if len(pairwise_disjoint)>k:\n",
    "                good_radius = False\n",
    "                break\n",
    "            \n",
    "            client_balls[t] = pairwise_disjoint\n",
    "\n",
    "        if good_radius:\n",
    "            facilities = build_flow(potential_facilities, location_directory, client_balls, k, m, mid)\n",
    "\n",
    "            if facilities:\n",
    "                to_ret = mid\n",
    "                r = mid\n",
    "                ret_facilities = facilities\n",
    "                print(mid, len(facilities))\n",
    "            else:\n",
    "                print(mid, \"INFEASIBLE\")\n",
    "                l = mid\n",
    "        \n",
    "        else:\n",
    "            print(mid, \"IND SETS\")\n",
    "            l = mid\n",
    "    \n",
    "    return to_ret, ret_facilities, client_balls"
   ]
  },
  {
   "cell_type": "code",
   "execution_count": 31,
   "metadata": {},
   "outputs": [],
   "source": [
    "from scipy.sparse import csr_matrix"
   ]
  },
  {
   "cell_type": "code",
   "execution_count": 43,
   "metadata": {},
   "outputs": [],
   "source": [
    "from scipy.sparse import csr_matrix\n",
    "from scipy.sparse.csgraph import maximum_flow\n",
    "\n",
    "def build_flow(potential_facilities, location_directory, client_balls, k, m, radius):\n",
    "    \n",
    "    fac_to_clients = {}\n",
    "    \n",
    "    for pf in potential_facilities:\n",
    "        fac_to_clients[pf] = {}\n",
    "        coord1 = (location_directory[pf][\"latitude\"], location_directory[pf][\"longitude\"])\n",
    "        \n",
    "        for t, clients in client_balls.items():\n",
    "            fac_to_clients[pf][t] = set()\n",
    "            \n",
    "            for c in clients:\n",
    "                coord2 = (location_directory[c][\"latitude\"], location_directory[c][\"longitude\"])\n",
    "                dist = calculate_dist(coord1, coord2)\n",
    "                if dist <= radius:\n",
    "                    fac_to_clients[pf][t].add(c)\n",
    "    \n",
    "    #print(\"calculated client ball assignment\")\n",
    "    reachable = calculate_reachable(potential_facilities, location_directory, m)\n",
    "\n",
    "    data = []\n",
    "    indices = []\n",
    "    indptr = [0]\n",
    "    \n",
    "    node_to_ind = {}\n",
    "    count = 0\n",
    "    for t in client_balls.keys():\n",
    "        node_to_ind[t] = {\"fac_in\": {}, \"client_in\": {}, \"client_out\": {},\"fac_out\":{}}\n",
    "        for pf in potential_facilities:\n",
    "            node_to_ind[t][\"fac_in\"][pf] = count\n",
    "            count += 1\n",
    "        for c in client_balls[t]:\n",
    "            node_to_ind[t][\"client_in\"][c] = count\n",
    "            count += 1\n",
    "        for c in client_balls[t]:\n",
    "            node_to_ind[t][\"client_out\"][c] = count\n",
    "            count += 1\n",
    "        for pf in potential_facilities:\n",
    "            node_to_ind[t][\"fac_out\"][pf] = count\n",
    "            count += 1\n",
    "    \n",
    "    #s, t, s', t' have not been accounted for yet...\n",
    "    S_STAR = count\n",
    "    S_NODE = S_STAR+1\n",
    "    T_NODE = S_NODE+1\n",
    "    S_PRIME = T_NODE+1\n",
    "    T_PRIME = S_PRIME+1\n",
    "    \n",
    "    for t in client_balls.keys():\n",
    "        client_to_fac = {}\n",
    "        for pf in potential_facilities:\n",
    "            connection_count = 0\n",
    "            \n",
    "            # does not pass through client ball\n",
    "            if len(fac_to_clients[pf][t])== 0:\n",
    "                \n",
    "                connection_count += 1\n",
    "                data.append(k)\n",
    "                indices.append(node_to_ind[t][\"fac_out\"][pf])\n",
    "                \n",
    "            # passes through client ball\n",
    "            for c in fac_to_clients[pf][t]:\n",
    "                \n",
    "                if c not in client_to_fac.keys():\n",
    "                    client_to_fac[c] = [pf]\n",
    "                else:\n",
    "                    client_to_fac[c].append(pf)\n",
    "                \n",
    "                connection_count += 1\n",
    "                indices.append(node_to_ind[t][\"client_in\"][c])\n",
    "                data.append(k)\n",
    "            \n",
    "            indptr.append(indptr[-1] + connection_count)\n",
    "        \n",
    "        for c in client_balls[t]:\n",
    "            # may be another larger capacity...\n",
    "            data.append(k)\n",
    "            indices.append(node_to_ind[t][\"client_out\"][c])\n",
    "            \n",
    "            # add connection to t'\n",
    "            data.append(1)\n",
    "            indices.append(T_PRIME)\n",
    "            indptr.append(indptr[-1]+2)\n",
    "        \n",
    "        for c in client_balls[t]:\n",
    "            connection_count = 0\n",
    "            for fac in client_to_fac[c]:\n",
    "                indices.append(node_to_ind[t][\"fac_out\"][fac])\n",
    "                data.append(k)\n",
    "                connection_count += 1\n",
    "            indptr.append(indptr[-1]+connection_count)\n",
    "        \n",
    "        for pf in potential_facilities:\n",
    "            if t == max(client_balls.keys()):\n",
    "                #add connections to t\n",
    "                data.append(k)\n",
    "                indices.append(T_NODE)\n",
    "                indptr.append(indptr[-1]+1)\n",
    "            else:\n",
    "                connection_count = 0\n",
    "                for fac in reachable[pf]:\n",
    "                    indices.append(node_to_ind[t+1][\"fac_in\"][fac])\n",
    "                    data.append(k)\n",
    "                    connection_count += 1\n",
    "                indptr.append(indptr[-1]+connection_count)\n",
    "    \n",
    "    saturation = 0\n",
    "    \n",
    "    # add constraint on total flow\n",
    "    data.append(k)\n",
    "    indices.append(T_PRIME)\n",
    "    indptr.append(indptr[-1]+1)\n",
    "    \n",
    "    # add s edges\n",
    "    #row_count += 1\n",
    "    data += [k for _ in range(len(potential_facilities))]\n",
    "    indices += [node_to_ind[min(client_balls.keys())][\"fac_in\"][fac] for fac in potential_facilities]\n",
    "    indptr.append(indptr[-1]+len(potential_facilities))\n",
    "    \n",
    "    # add t edge (going back into s*)\n",
    "    #row_count += 1\n",
    "    data.append(k)\n",
    "    indices.append(S_STAR)\n",
    "    indptr.append(indptr[-1]+1)\n",
    "    \n",
    "    # add s' edges\n",
    "    #row_count += 1\n",
    "    connection_count = 0\n",
    "    for t in client_balls.keys():\n",
    "        for client, indx in node_to_ind[t][\"client_out\"].items():\n",
    "            connection_count += 1\n",
    "            indices.append(indx)\n",
    "            data.append(1)\n",
    "    \n",
    "    data.append(k)\n",
    "    indices.append(S_NODE)\n",
    "    \n",
    "    indptr.append(indptr[-1]+connection_count + 1)\n",
    "    saturation = connection_count + k\n",
    "    \n",
    "    # add t' edges\n",
    "    #row_count += 1\n",
    "    indptr.append(indptr[-1])\n",
    "    \n",
    "    graph = csr_matrix((data, indices, indptr), shape=(T_PRIME+1, T_PRIME+1))\n",
    "    flow = maximum_flow(graph, S_PRIME, T_PRIME, method='edmonds_karp')\n",
    "    if flow.flow_value == saturation:\n",
    "        #print(\"FEASIBLE!\")\n",
    "        #return flow.flow\n",
    "        fac = open_facilities(graph[:,:S_STAR], flow.flow[:,:S_STAR], node_to_ind, fac_to_clients, potential_facilities, client_balls, S_NODE)\n",
    "        return fac\n",
    "    else:\n",
    "        return"
   ]
  },
  {
   "cell_type": "code",
   "execution_count": 38,
   "metadata": {},
   "outputs": [],
   "source": [
    "import numpy as np\n",
    "def open_facilities(graph, flow, node_to_ind, fac_to_clients, potential_facilities, client_balls, S_NODE):\n",
    "    \n",
    "    facility_paths = []\n",
    "    \n",
    "    while len((flow[S_NODE]>0).indices) > 0:\n",
    "        \n",
    "        path = []\n",
    "        \n",
    "        fac = (flow[S_NODE]>0).indices[0]\n",
    "        flow[S_NODE, fac]-=1\n",
    "        \n",
    "        t = min(client_balls.keys())\n",
    "        ind_to_node = {ind: node for node, ind in node_to_ind[t][\"fac_in\"].items()}\n",
    "        \n",
    "        path.append(ind_to_node[fac])\n",
    "        \n",
    "        while len(path)<len(client_balls.keys()):\n",
    "            \n",
    "            t += 1\n",
    "            ind_to_node = {ind: node for node, ind in node_to_ind[t][\"fac_in\"].items()}\n",
    "            \n",
    "            previous_facility = path[-1]\n",
    "            index = node_to_ind[t-1][\"fac_in\"][previous_facility]\n",
    "            next_step = (flow[index]>0).indices[0]\n",
    "            flow[index, next_step]-=1\n",
    "\n",
    "            # does not flow through client ball\n",
    "            if len(fac_to_clients[previous_facility][t-1]) == 0:\n",
    "\n",
    "                next_fac = (flow[next_step]>0).indices[0]\n",
    "\n",
    "                flow[next_step, next_fac]-=1\n",
    "\n",
    "            # it flows through a client ball\n",
    "            else:\n",
    "                next_client_ball = (graph[next_step]>0).indices[0]\n",
    "                exit_node = (flow[next_client_ball]>0).indices[0]\n",
    "                next_fac = (flow[exit_node]>0).indices[0]\n",
    "\n",
    "                flow[next_client_ball, exit_node]-=1\n",
    "                flow[exit_node, next_fac]-=1\n",
    "        \n",
    "            path.append(ind_to_node[next_fac])\n",
    "        \n",
    "        facility_paths.append(path)\n",
    "        #print(facility_paths)\n",
    "        \n",
    "    return facility_paths\n",
    "    "
   ]
  },
  {
   "cell_type": "code",
   "execution_count": 39,
   "metadata": {},
   "outputs": [],
   "source": [
    "from FullyMobile.algorithm import _check_radius, _locate_facilities"
   ]
  },
  {
   "cell_type": "code",
   "execution_count": 40,
   "metadata": {},
   "outputs": [
    {
     "name": "stdout",
     "output_type": "stream",
     "text": [
      "10.049999999999999 5\n",
      "5.074999999999999 5\n",
      "2.5875 5\n",
      "1.34375 5\n",
      "0.7218749999999999 IND SETS\n",
      "1.0328125 IND SETS\n",
      "1.18828125 5\n",
      "1.1105468749999998 IND SETS\n",
      "1.1494140625 IND SETS\n",
      "1.16884765625 5\n",
      "1.159130859375 IND SETS\n",
      "1.1639892578125002 IND SETS\n",
      "1.1664184570312501 IND SETS\n",
      "1.167633056640625 IND SETS\n"
     ]
    }
   ],
   "source": [
    "k = 5\n",
    "m = 5\n",
    "radius, flow, client_balls = flow(potential_facilities, location_directory, pid_assignment, k, m, lower_limit = 0.1, upper_limit = 20)"
   ]
  },
  {
   "cell_type": "code",
   "execution_count": 42,
   "metadata": {},
   "outputs": [
    {
     "name": "stdout",
     "output_type": "stream",
     "text": [
      "True\n",
      "True\n",
      "True\n",
      "True\n",
      "True\n",
      "True\n",
      "True\n",
      "True\n",
      "True\n",
      "True\n",
      "True\n",
      "True\n",
      "True\n",
      "True\n",
      "True\n",
      "True\n",
      "True\n",
      "True\n",
      "True\n",
      "True\n",
      "True\n",
      "True\n",
      "True\n",
      "True\n",
      "True\n",
      "True\n",
      "True\n",
      "True\n",
      "True\n",
      "True\n",
      "True\n",
      "True\n",
      "True\n",
      "True\n",
      "True\n",
      "True\n",
      "True\n",
      "True\n",
      "True\n",
      "True\n",
      "True\n"
     ]
    }
   ],
   "source": [
    "for j in range(len(client_balls.keys())):\n",
    "    clients = client_balls[min(client_balls.keys())+j]\n",
    "    for b in clients:\n",
    "        coord2 = (location_directory[b]['latitude'], location_directory[b]['longitude'])\n",
    "        \n",
    "        isSuccessful = False\n",
    "        for fac in set([flow[i][j] for i in range(len(flow))]):\n",
    "            coord1 = (location_directory[fac]['latitude'], location_directory[fac]['longitude'])\n",
    "            \n",
    "            if calculate_dist(coord2, coord1)<=radius:\n",
    "                isSuccessful=True\n",
    "                break\n",
    "        \n",
    "        print(isSuccessful)"
   ]
  },
  {
   "cell_type": "code",
   "execution_count": 12,
   "metadata": {},
   "outputs": [
    {
     "name": "stdout",
     "output_type": "stream",
     "text": [
      "(1.7102050781250002, [[122888, 2547840, 131099, 32795, 131099, 16445, 122888, 32795, 122888, 98326, 122888, 122888, 122888, 16447], [131099, 32795, 122888, 122888, 122888, 8233, 98326, 98326, 106561, 122888, 32795, 98326, 98326, 32795], [16445, 122888, 16450, 16450, 32795, 98326, 32795, 122888, 32795, 122888, 73758, 32795, 32795, 122888]])\n"
     ]
    }
   ],
   "source": [
    "print(fac)"
   ]
  },
  {
   "cell_type": "code",
   "execution_count": 10,
   "metadata": {},
   "outputs": [
    {
     "name": "stdout",
     "output_type": "stream",
     "text": [
      "2.968483217968394\n",
      "1.0065082104307448\n",
      "1.4344847480314693\n",
      "2.7627563349253115\n",
      "1.5222899773388703\n",
      "2.918938324844095\n",
      "1.4150024222743056\n",
      "2.3125334390899286\n",
      "3.4102879505092676\n",
      "1.3269517534086694\n",
      "1.6677441015216707\n",
      "4.243837774457177\n",
      "3.319260623499233\n",
      "3.2385531853787035\n",
      "4.057827233449396\n",
      "3.1827550953864807\n",
      "0.0\n",
      "3.5135434476145133\n",
      "0.8225247344091408\n",
      "4.23821657947764\n",
      "2.5986764385632144\n",
      "1.7400786190487003\n",
      "2.938133405086034\n",
      "0.0\n",
      "2.9381334050860306\n",
      "4.713846177292011\n",
      "2.365319530026117\n",
      "1.9188304311357396\n",
      "0.0\n",
      "0.0\n",
      "0.0\n",
      "0.0\n",
      "0.0\n",
      "2.938133405086034\n",
      "2.9381334050860306\n",
      "2.938133405086034\n",
      "0.0\n",
      "4.772324666380309\n",
      "1.0114092049867136\n",
      "0.3131056558814142\n",
      "2.0453675689245836\n",
      "2.8951650412700145\n",
      "1.377762982351964\n",
      "3.0468331289147392\n",
      "3.2943369056828113\n",
      "2.1073310916385437\n",
      "4.736549012080406\n",
      "3.9394047064004245\n",
      "2.938133405086034\n",
      "3.478690711917839\n",
      "4.535436485870629\n",
      "0.0\n",
      "2.895124218939158\n",
      "2.7230101606587107\n",
      "4.4023128184799525\n",
      "0.8387061481088598\n",
      "0.0\n",
      "1.2839647993094903\n",
      "2.071285782914826\n",
      "4.397777371367233\n",
      "0.6944464082947369\n",
      "3.2051529981914886\n",
      "3.2051529981913465\n",
      "3.3924912780085683\n",
      "1.3413126005097464\n",
      "4.748083678770687\n",
      "4.337628068949117\n",
      "4.185463214236568\n",
      "3.5350970618777597\n",
      "2.968483217968394\n",
      "0.8800255351342426\n",
      "2.737611639038271\n",
      "0.0\n",
      "2.729573034163873\n",
      "1.6699770738014563\n",
      "1.7532302922718466\n",
      "3.909035429173028\n",
      "4.815773924404087\n",
      "0.8210454229432279\n",
      "4.353145722450097\n",
      "1.740078619048707\n",
      "2.268850584768024\n",
      "3.590511624360056\n",
      "3.526483029628303\n",
      "4.713846177292011\n",
      "4.713846177292118\n",
      "4.2804609231339255\n",
      "4.964325497084619\n",
      "3.548878274375272\n",
      "4.717932603938671\n",
      "4.717932603938615\n",
      "2.2684501052561554\n",
      "1.1938745861233813\n",
      "4.633429577173818\n",
      "2.134580929398531\n",
      "3.8093665552161937\n",
      "4.580219130971779\n",
      "0.0\n",
      "2.1977079706549896\n",
      "1.1208786375202195\n",
      "3.04461266410509\n",
      "3.6498664712158617\n",
      "0.9937114488506633\n",
      "2.0571215044576383\n",
      "4.717932603938671\n",
      "1.753230292271887\n",
      "2.0103854686747002\n",
      "2.0103854686750444\n",
      "1.145047603727471\n",
      "4.961817277691245\n",
      "2.6869536837870314\n",
      "1.6692098903672725\n",
      "1.2877003625570405\n",
      "0.0\n",
      "3.9747238368562563\n",
      "4.396950330523838\n",
      "3.924191927620465\n",
      "1.4617953374614054\n",
      "0.34901895008330003\n",
      "1.0832731254759016\n",
      "1.8848002759201736\n",
      "3.97266233108432\n",
      "4.050836579512508\n",
      "1.1898259487420026\n",
      "3.6939568780303524\n",
      "3.6939568780303538\n",
      "4.0389677268459785\n",
      "3.3092726844490494\n",
      "3.3092726844489064\n",
      "1.7732335125138872\n"
     ]
    }
   ],
   "source": [
    "for path in fac[1]:\n",
    "    for i in range(1, len(path)):\n",
    "        fac1 = path[i-1]\n",
    "        fac2 = path[i]\n",
    "        coord1 = (location_directory[fac1][\"latitude\"], location_directory[fac1][\"longitude\"])\n",
    "        coord2 = (location_directory[fac2][\"latitude\"], location_directory[fac2][\"longitude\"])\n",
    "        print(calculate_dist(coord1, coord2))"
   ]
  },
  {
   "cell_type": "code",
   "execution_count": 23,
   "metadata": {},
   "outputs": [
    {
     "name": "stdout",
     "output_type": "stream",
     "text": [
      "1.766630214085124\n"
     ]
    }
   ],
   "source": [
    "print(calculate_assignment_cost(flow[1], location_directory, pid_assignment))"
   ]
  },
  {
   "cell_type": "code",
   "execution_count": 31,
   "metadata": {},
   "outputs": [
    {
     "name": "stdout",
     "output_type": "stream",
     "text": [
      "10\n"
     ]
    }
   ],
   "source": [
    "print(len(fac[1]))"
   ]
  },
  {
   "cell_type": "code",
   "execution_count": 34,
   "metadata": {},
   "outputs": [
    {
     "ename": "AttributeError",
     "evalue": "'tuple' object has no attribute 'flatten'",
     "output_type": "error",
     "traceback": [
      "\u001b[0;31m---------------------------------------------------------------------------\u001b[0m",
      "\u001b[0;31mAttributeError\u001b[0m                            Traceback (most recent call last)",
      "Input \u001b[0;32mIn [34]\u001b[0m, in \u001b[0;36m<cell line: 1>\u001b[0;34m()\u001b[0m\n\u001b[0;32m----> 1\u001b[0m \u001b[43m(\u001b[49m\u001b[43mnp\u001b[49m\u001b[38;5;241;43m.\u001b[39;49m\u001b[43mndarray\u001b[49m\u001b[43m(\u001b[49m\u001b[38;5;241;43m3\u001b[39;49m\u001b[43m)\u001b[49m\u001b[43m,\u001b[49m\u001b[43m)\u001b[49m\u001b[38;5;241;43m.\u001b[39;49m\u001b[43mflatten\u001b[49m()\n",
      "\u001b[0;31mAttributeError\u001b[0m: 'tuple' object has no attribute 'flatten'"
     ]
    }
   ],
   "source": [
    "(np.ndarray(3),).flatten()"
   ]
  },
  {
   "cell_type": "code",
   "execution_count": 50,
   "metadata": {},
   "outputs": [
    {
     "data": {
      "text/plain": [
       "(array([1]),)"
      ]
     },
     "execution_count": 50,
     "metadata": {},
     "output_type": "execute_result"
    }
   ],
   "source": [
    "#np.where(np.array([1,2])>1)\n",
    "np.asarray(np.array([1,2])>1).nonzero()"
   ]
  },
  {
   "cell_type": "code",
   "execution_count": 160,
   "metadata": {},
   "outputs": [
    {
     "name": "stdout",
     "output_type": "stream",
     "text": [
      "(1.4972656250000003, [[98326, 98326, 98326, 73757, 32795, 131099, 16445, 49206, 122888, 73758, 122888, 73758, 98326, 131099]])\n"
     ]
    }
   ],
   "source": [
    "print(fac)"
   ]
  },
  {
   "cell_type": "code",
   "execution_count": 82,
   "metadata": {},
   "outputs": [
    {
     "data": {
      "text/plain": [
       "(array([0, 1, 2, 3, 5]),)"
      ]
     },
     "execution_count": 82,
     "metadata": {},
     "output_type": "execute_result"
    }
   ],
   "source": [
    "np.where(flow.toarray()[S_NODE,:]>0)"
   ]
  },
  {
   "cell_type": "code",
   "execution_count": 96,
   "metadata": {},
   "outputs": [
    {
     "name": "stdout",
     "output_type": "stream",
     "text": [
      "[[0 0 0 ... 0 0 0]\n",
      " [0 0 0 ... 0 0 0]\n",
      " [0 0 0 ... 0 0 0]\n",
      " ...\n",
      " [0 0 0 ... 0 0 0]\n",
      " [0 0 0 ... 0 0 0]\n",
      " [0 0 0 ... 0 0 0]]\n"
     ]
    }
   ],
   "source": [
    "print(flow.toarray())"
   ]
  },
  {
   "cell_type": "code",
   "execution_count": null,
   "metadata": {},
   "outputs": [],
   "source": [
    "import numpy\n",
    "edges = flow.flow!=0\n",
    "a = flow.flow.toarray()\n",
    "print(sum(a[:, 88018]))\n",
    "print(sum(a[88018,:]))"
   ]
  },
  {
   "cell_type": "code",
   "execution_count": 3,
   "metadata": {},
   "outputs": [],
   "source": [
    "#from FullyMobile.lp import *\n",
    "#lp = FlowLP(potential_facilities, location_directory, pid_assignment, 5, 5, 5)"
   ]
  },
  {
   "cell_type": "code",
   "execution_count": 4,
   "metadata": {},
   "outputs": [],
   "source": [
    "#import time\n",
    "\n",
    "#start = time.time()\n",
    "#lp.solve_lp()\n",
    "#end = time.time()\n",
    "\n",
    "#print(end-start)"
   ]
  },
  {
   "cell_type": "code",
   "execution_count": 5,
   "metadata": {},
   "outputs": [],
   "source": [
    "from FullyMobile.algorithm import _check_radius, _locate_facilities"
   ]
  },
  {
   "cell_type": "code",
   "execution_count": 6,
   "metadata": {},
   "outputs": [],
   "source": [
    "from scipy.sparse import csr_matrix\n",
    "from scipy.sparse.csgraph import maximum_bipartite_matching\n",
    "\n",
    "def check_matching(potential_facilities, location_directory, previous_facilities, timestep_balls, k, m, radius):\n",
    "    if len(previous_facilities) == 0:\n",
    "        facilities: List[int] = _locate_facilities(location_directory, radius, timestep_balls, potential_facilities, k)\n",
    "        return facilities\n",
    "    else:\n",
    "        distance_dict = {}\n",
    "        \n",
    "        data = []\n",
    "        indices = []\n",
    "        indptr = [0]\n",
    "        \n",
    "        for prev_iter, prev in enumerate(previous_facilities):\n",
    "            coord_prev = (location_directory[prev][\"latitude\"], location_directory[prev][\"longitude\"])\n",
    "            \n",
    "            edge_count = 0\n",
    "            \n",
    "            for ball_iter, next_ball in enumerate(timestep_balls):\n",
    "                \n",
    "                coord_client = (location_directory[next_ball][\"latitude\"], location_directory[next_ball][\"longitude\"])\n",
    "                \n",
    "                for fac in potential_facilities:\n",
    "                    coord_fac = (location_directory[fac][\"latitude\"], location_directory[fac][\"longitude\"])\n",
    "                    if calculate_dist(coord_client, coord_fac) <= radius and calculate_dist(coord_prev, coord_fac) <= m:\n",
    "                        distance_dict[(prev_iter, ball_iter)] = fac\n",
    "                        \n",
    "                        edge_count += 1\n",
    "                        \n",
    "                        data.append(1)\n",
    "                        indices.append(ball_iter)\n",
    "                        \n",
    "                        break\n",
    "            \n",
    "            indptr.append(indptr[-1] + edge_count)\n",
    "        \n",
    "        graph = csr_matrix((data, indices, indptr), shape=(len(previous_facilities), len(timestep_balls)))\n",
    "        match = maximum_bipartite_matching(graph, perm_type = 'column')\n",
    "        \n",
    "        if len(timestep_balls) >= len(previous_facilities) and (match == -1).sum() > 0:\n",
    "            return {}\n",
    "        else:\n",
    "            fac = []\n",
    "            for row, col in enumerate(match):\n",
    "                if col!=-1:\n",
    "                    fac.append(distance_dict[(row, col)])\n",
    "                else:\n",
    "                    fac.append(previous_facilities[row])\n",
    "            return fac\n",
    "        "
   ]
  },
  {
   "cell_type": "code",
   "execution_count": 7,
   "metadata": {},
   "outputs": [],
   "source": [
    "def k_supplier_step(potential_facilities, location_directory, k, m, previous_facilities, clients, lower_limit = 0.1, upper_limit = 20):\n",
    "    \n",
    "    l = lower_limit\n",
    "    r = upper_limit\n",
    "\n",
    "    to_ret = -1\n",
    "    ret_facilities = []\n",
    "    EPSILON = 2e-3\n",
    "    \n",
    "    while r-l > EPSILON:\n",
    "    \n",
    "        mid = l + (r - l) / 2\n",
    "        \n",
    "        pairwise_disjoint = _check_radius(location_directory, mid, clients)\n",
    "\n",
    "        if len(pairwise_disjoint) <= k:\n",
    "            facilities = check_matching(potential_facilities, location_directory, previous_facilities, pairwise_disjoint, k, m, mid)\n",
    "            \n",
    "            if facilities:\n",
    "                to_ret = mid\n",
    "                r = mid\n",
    "                ret_facilities = facilities\n",
    "            else:\n",
    "                l = mid\n",
    "        \n",
    "        else:\n",
    "            l = mid\n",
    "    \n",
    "    return to_ret, ret_facilities"
   ]
  },
  {
   "cell_type": "code",
   "execution_count": 21,
   "metadata": {},
   "outputs": [],
   "source": [
    "def baseline_supplier(potential_facilities, location_directory, pid_assignment, k: int, m: float, lower_limit = 0.1, upper_limit = 20):\n",
    "    \n",
    "    previous_facilities = []\n",
    "    facility_paths = [[] for _ in range(k)]\n",
    "    \n",
    "    for hr, vals in pid_assignment.items():\n",
    "        \n",
    "        clients = set()\n",
    "        for val in vals:\n",
    "            clients.add(val[1])\n",
    "        \n",
    "        radius, timestep_facilities = k_supplier_step(potential_facilities, location_directory, k, m, previous_facilities, clients, lower_limit = lower_limit, upper_limit = upper_limit)\n",
    "        \n",
    "        print(radius, timestep_facilities)\n",
    "        \n",
    "        for i in range(len(facility_paths)):\n",
    "            facility_paths[i].append(timestep_facilities[i])\n",
    "        previous_facilities = timestep_facilities\n",
    "    \n",
    "    return facility_paths"
   ]
  },
  {
   "cell_type": "code",
   "execution_count": 17,
   "metadata": {},
   "outputs": [
    {
     "name": "stdout",
     "output_type": "stream",
     "text": [
      "0.6247070312499999 [2547840, 16450, 2547908, 1704166, 623016, 1466668, 49206, 89, 32795, 73757]\n",
      "0.6332092285156249 [1466611, 82229, 73758, 131099, 98326, 2547876, 2547840, 73846, 98345, 16445]\n",
      "0.49717407226562493 [2547895, 16445, 2547820, 65632, 8233, 2547839, 2547840, 2547776, 131099, 122888]\n",
      "0.5518310546875 [106563, 65632, 16450, 1704107, 89, 1704155, 2547912, 2547797, 131152, 98326]\n",
      "0.488671875 [16447, 122888, 2547895, 122966, 16450, 1704165, 16445, 8233, 254286, 32795]\n",
      "0.523895263671875 [89, 2547887, 73757, 98405, 16446, 2547907, 1704155, 2547776, 49206, 73758]\n",
      "0.5226806640625 [32795, 16446, 2547907, 1704165, 2547876, 2547839, 133931, 73846, 2547912, 122966]\n",
      "0.604058837890625 [32795, 1704146, 98326, 1704166, 90175, 2547912, 89, 233, 16450, 82174]\n",
      "0.5821960449218749 [2547806, 2547825, 122888, 90175, 886328, 991863, 133931, 2547839, 2547908, 1466668]\n",
      "0.61256103515625 [65632, 1704155, 98405, 16450, 89, 131152, 2547840, 1704166, 49206, 73758]\n",
      "0.570050048828125 [2547806, 32795, 131099, 122888, 8233, 16447, 2547840, 89, 386067, 2547776]\n",
      "0.57855224609375 [122888, 98326, 1229159, 2547839, 2547840, 16445, 386067, 16450, 2547855, 106610]\n",
      "0.553045654296875 [32797, 73757, 1704174, 1704155, 131152, 98706, 16445, 2547907, 98345, 98326]\n",
      "0.6684326171874999 [1466664, 106792, 49206, 2547907, 1229229, 73758, 89, 82174, 73757, 16450]\n"
     ]
    }
   ],
   "source": [
    "facility_paths = baseline_supplier(potential_facilities, location_directory, pid_assignment, 10, 5)"
   ]
  },
  {
   "cell_type": "code",
   "execution_count": 18,
   "metadata": {},
   "outputs": [
    {
     "data": {
      "text/plain": [
       "1.6607645701578895"
      ]
     },
     "execution_count": 18,
     "metadata": {},
     "output_type": "execute_result"
    }
   ],
   "source": [
    "calculate_assignment_cost(facility_paths, location_directory, pid_assignment)"
   ]
  },
  {
   "cell_type": "code",
   "execution_count": 19,
   "metadata": {},
   "outputs": [
    {
     "name": "stdout",
     "output_type": "stream",
     "text": [
      "10 14\n"
     ]
    }
   ],
   "source": [
    "print(len(facility_paths), len(facility_paths[0]))"
   ]
  },
  {
   "cell_type": "code",
   "execution_count": 20,
   "metadata": {},
   "outputs": [
    {
     "name": "stdout",
     "output_type": "stream",
     "text": [
      "4.9211829114622905\n",
      "4.304594727914821\n",
      "0.7126641139899595\n",
      "1.049021866612541\n",
      "2.6575238840645428\n",
      "3.4018707836593864\n",
      "0.0\n",
      "3.3739931360373747\n",
      "0.9251004550201813\n",
      "0.9251004550202215\n",
      "1.6699770738014648\n",
      "4.21432252956719\n",
      "4.822510095480924\n",
      "2.9278907090080213\n",
      "4.941963128253653\n",
      "3.1827550953864807\n",
      "2.2712234760891903\n",
      "0.8181627493323282\n",
      "3.1924351516794482\n",
      "0.858964449128768\n",
      "0.2834996029302072\n",
      "1.7589133683801261\n",
      "4.969938626167263\n",
      "3.649866471215745\n",
      "0.9937114488505862\n",
      "4.217363382374605\n",
      "4.629431066405123\n",
      "3.6563241004017444\n",
      "0.28690354642865284\n",
      "2.9146327420982416\n",
      "2.117034465096184\n",
      "2.8895018348734705\n",
      "1.9289388421760916\n",
      "1.6677441015216876\n",
      "4.3868707143790555\n",
      "1.6155323377405784\n",
      "0.8019527475364349\n",
      "1.8624639915803491\n",
      "1.6943990994416411\n",
      "4.267343427822449\n",
      "1.3066294762494899\n",
      "1.5026592251920707\n",
      "3.0903586992248617\n",
      "3.7155110055769036\n",
      "4.17854069329452\n",
      "0.48419104782189604\n",
      "4.2382165794776725\n",
      "1.913817721791171\n",
      "3.908189809226391\n",
      "1.7400786190487003\n",
      "0.46632602681079866\n",
      "1.5168844520084623\n",
      "2.9074537371651963\n",
      "2.3784592652080514\n",
      "3.204114966210316\n",
      "4.6014769447539825\n",
      "1.8219581060317274\n",
      "2.48865834270459\n",
      "3.4253748564701616\n",
      "4.7244793153143965\n",
      "1.8848591276947146\n",
      "3.204114966210224\n",
      "4.038309335095877\n",
      "2.0725602787464896\n",
      "4.979775926365252\n",
      "4.468245755038088\n",
      "2.2600278787571613\n",
      "0.46632602681079866\n",
      "4.628233924033329\n",
      "4.311834338411712\n",
      "1.4188970820059692\n",
      "2.519544767413964\n",
      "4.01820361164037\n",
      "2.987394656584228\n",
      "1.5462820643434712\n",
      "3.502548321440388\n",
      "2.726889766119845\n",
      "3.241744858948319\n",
      "2.109415909320442\n",
      "0.0\n",
      "3.548878274375272\n",
      "1.73171278275129\n",
      "3.8385046698906695\n",
      "4.4497040721784415\n",
      "4.43691283337838\n",
      "4.4369128333783525\n",
      "4.6994734289397195\n",
      "0.0\n",
      "3.9213068379194853\n",
      "1.716078347750109\n",
      "1.004434721543539\n",
      "1.483468134980684\n",
      "2.8423004599258777\n",
      "1.9609288142688512\n",
      "1.54294559703948\n",
      "3.137588426513127\n",
      "2.842300459925686\n",
      "1.6513699877038048\n",
      "3.191597547577339\n",
      "4.614841681617154\n",
      "2.326932702647784\n",
      "4.6014769447539825\n",
      "3.6580085551596673\n",
      "3.9114618537731833\n",
      "0.9365947367908966\n",
      "4.10145772203134\n",
      "0.7038549984438941\n",
      "2.8007902840433396\n",
      "2.3125334390899286\n",
      "2.161398951125322\n",
      "4.783333132890259\n",
      "4.343430133137419\n",
      "1.9303541535390523\n",
      "2.560480801152471\n",
      "4.511764003155597\n",
      "0.8812179123233295\n",
      "3.97333802971963\n",
      "3.953763185590521\n",
      "1.7532302922718466\n",
      "1.6677441015216707\n",
      "3.6498664712158617\n",
      "1.297209534673391\n",
      "2.869752435575056\n",
      "4.54214008982775\n",
      "0.9646801145077155\n",
      "4.736549012080406\n",
      "2.723010160658622\n",
      "3.0848739121195656\n",
      "1.2839647993094903\n",
      "2.3424659709472606\n"
     ]
    }
   ],
   "source": [
    "for i in range(len(facility_paths)):\n",
    "    for j in range(1, len(facility_paths[0])):\n",
    "        coord1 = (location_directory[facility_paths[i][j]][\"latitude\"], location_directory[facility_paths[i][j]][\"longitude\"])\n",
    "        coord2 = (location_directory[facility_paths[i][j-1]][\"latitude\"], location_directory[facility_paths[i][j-1]][\"longitude\"])\n",
    "        print(calculate_dist(coord1, coord2))"
   ]
  },
  {
   "cell_type": "code",
   "execution_count": null,
   "metadata": {},
   "outputs": [],
   "source": []
  }
 ],
 "metadata": {
  "kernelspec": {
   "display_name": "Python [conda env:.conda-fullymobile]",
   "language": "python",
   "name": "conda-env-.conda-fullymobile-py"
  },
  "language_info": {
   "codemirror_mode": {
    "name": "ipython",
    "version": 3
   },
   "file_extension": ".py",
   "mimetype": "text/x-python",
   "name": "python",
   "nbconvert_exporter": "python",
   "pygments_lexer": "ipython3",
   "version": "3.10.4"
  }
 },
 "nbformat": 4,
 "nbformat_minor": 4
}
