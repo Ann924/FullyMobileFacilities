{
 "cells": [
  {
   "cell_type": "markdown",
   "id": "de596b8f",
   "metadata": {},
   "source": [
    "### Data Exploration ###\n",
    "\n",
    "Datasets: Charlottesville City, Albemarle County\n"
   ]
  },
  {
   "cell_type": "code",
   "execution_count": 18,
   "id": "def19d47",
   "metadata": {},
   "outputs": [],
   "source": [
    "import pandas as pd\n",
    "import numpy as np\n",
    "from matplotlib import pyplot as plt\n",
    "import random"
   ]
  },
  {
   "cell_type": "code",
   "execution_count": 19,
   "id": "423bcb0e",
   "metadata": {},
   "outputs": [
    {
     "data": {
      "text/html": [
       "<div>\n",
       "<style scoped>\n",
       "    .dataframe tbody tr th:only-of-type {\n",
       "        vertical-align: middle;\n",
       "    }\n",
       "\n",
       "    .dataframe tbody tr th {\n",
       "        vertical-align: top;\n",
       "    }\n",
       "\n",
       "    .dataframe thead th {\n",
       "        text-align: right;\n",
       "    }\n",
       "</style>\n",
       "<table border=\"1\" class=\"dataframe\">\n",
       "  <thead>\n",
       "    <tr style=\"text-align: right;\">\n",
       "      <th></th>\n",
       "      <th>hid</th>\n",
       "      <th>pid</th>\n",
       "      <th>activity_number</th>\n",
       "      <th>activity_type</th>\n",
       "      <th>start_time</th>\n",
       "      <th>duration</th>\n",
       "      <th>lid</th>\n",
       "      <th>longitude</th>\n",
       "      <th>latitude</th>\n",
       "      <th>travel_mode</th>\n",
       "    </tr>\n",
       "  </thead>\n",
       "  <tbody>\n",
       "    <tr>\n",
       "      <th>0</th>\n",
       "      <td>2208253</td>\n",
       "      <td>5586585</td>\n",
       "      <td>0</td>\n",
       "      <td>1</td>\n",
       "      <td>0</td>\n",
       "      <td>27900</td>\n",
       "      <td>1018209</td>\n",
       "      <td>-78.488467</td>\n",
       "      <td>38.043025</td>\n",
       "      <td>-1</td>\n",
       "    </tr>\n",
       "    <tr>\n",
       "      <th>1</th>\n",
       "      <td>2208253</td>\n",
       "      <td>5586585</td>\n",
       "      <td>2</td>\n",
       "      <td>2</td>\n",
       "      <td>28800</td>\n",
       "      <td>17100</td>\n",
       "      <td>82246</td>\n",
       "      <td>-78.414920</td>\n",
       "      <td>38.157530</td>\n",
       "      <td>-1</td>\n",
       "    </tr>\n",
       "    <tr>\n",
       "      <th>2</th>\n",
       "      <td>2208253</td>\n",
       "      <td>5586585</td>\n",
       "      <td>4</td>\n",
       "      <td>4</td>\n",
       "      <td>46800</td>\n",
       "      <td>1200</td>\n",
       "      <td>86726</td>\n",
       "      <td>-78.498790</td>\n",
       "      <td>38.139160</td>\n",
       "      <td>-1</td>\n",
       "    </tr>\n",
       "    <tr>\n",
       "      <th>3</th>\n",
       "      <td>2208253</td>\n",
       "      <td>5586585</td>\n",
       "      <td>6</td>\n",
       "      <td>2</td>\n",
       "      <td>48600</td>\n",
       "      <td>15300</td>\n",
       "      <td>82246</td>\n",
       "      <td>-78.414920</td>\n",
       "      <td>38.157530</td>\n",
       "      <td>-1</td>\n",
       "    </tr>\n",
       "    <tr>\n",
       "      <th>4</th>\n",
       "      <td>2208253</td>\n",
       "      <td>5586585</td>\n",
       "      <td>8</td>\n",
       "      <td>1</td>\n",
       "      <td>64800</td>\n",
       "      <td>36000</td>\n",
       "      <td>1018209</td>\n",
       "      <td>-78.488467</td>\n",
       "      <td>38.043025</td>\n",
       "      <td>-1</td>\n",
       "    </tr>\n",
       "  </tbody>\n",
       "</table>\n",
       "</div>"
      ],
      "text/plain": [
       "       hid      pid  activity_number  activity_type  start_time  duration  \\\n",
       "0  2208253  5586585                0              1           0     27900   \n",
       "1  2208253  5586585                2              2       28800     17100   \n",
       "2  2208253  5586585                4              4       46800      1200   \n",
       "3  2208253  5586585                6              2       48600     15300   \n",
       "4  2208253  5586585                8              1       64800     36000   \n",
       "\n",
       "       lid  longitude   latitude  travel_mode  \n",
       "0  1018209 -78.488467  38.043025           -1  \n",
       "1    82246 -78.414920  38.157530           -1  \n",
       "2    86726 -78.498790  38.139160           -1  \n",
       "3    82246 -78.414920  38.157530           -1  \n",
       "4  1018209 -78.488467  38.043025           -1  "
      ]
     },
     "execution_count": 19,
     "metadata": {},
     "output_type": "execute_result"
    }
   ],
   "source": [
    "filename_cville = \"usa_va_charlottesville_city_adult_activity_location_assignment_week.csv\"\n",
    "df_cville = pd.read_csv(filename_cville)\n",
    "df_cville.head()"
   ]
  },
  {
   "cell_type": "code",
   "execution_count": 20,
   "id": "9ccbb757",
   "metadata": {},
   "outputs": [
    {
     "data": {
      "text/html": [
       "<div>\n",
       "<style scoped>\n",
       "    .dataframe tbody tr th:only-of-type {\n",
       "        vertical-align: middle;\n",
       "    }\n",
       "\n",
       "    .dataframe tbody tr th {\n",
       "        vertical-align: top;\n",
       "    }\n",
       "\n",
       "    .dataframe thead th {\n",
       "        text-align: right;\n",
       "    }\n",
       "</style>\n",
       "<table border=\"1\" class=\"dataframe\">\n",
       "  <thead>\n",
       "    <tr style=\"text-align: right;\">\n",
       "      <th></th>\n",
       "      <th>hid</th>\n",
       "      <th>pid</th>\n",
       "      <th>activity_number</th>\n",
       "      <th>activity_type</th>\n",
       "      <th>start_time</th>\n",
       "      <th>duration</th>\n",
       "      <th>lid</th>\n",
       "      <th>longitude</th>\n",
       "      <th>latitude</th>\n",
       "      <th>travel_mode</th>\n",
       "    </tr>\n",
       "  </thead>\n",
       "  <tbody>\n",
       "    <tr>\n",
       "      <th>0</th>\n",
       "      <td>13480</td>\n",
       "      <td>30923</td>\n",
       "      <td>0</td>\n",
       "      <td>1</td>\n",
       "      <td>0</td>\n",
       "      <td>25200</td>\n",
       "      <td>1018178</td>\n",
       "      <td>-78.435006</td>\n",
       "      <td>38.09230</td>\n",
       "      <td>-1</td>\n",
       "    </tr>\n",
       "    <tr>\n",
       "      <th>1</th>\n",
       "      <td>13480</td>\n",
       "      <td>30923</td>\n",
       "      <td>2</td>\n",
       "      <td>2</td>\n",
       "      <td>27000</td>\n",
       "      <td>7680</td>\n",
       "      <td>117201</td>\n",
       "      <td>-78.440510</td>\n",
       "      <td>38.02277</td>\n",
       "      <td>-1</td>\n",
       "    </tr>\n",
       "    <tr>\n",
       "      <th>2</th>\n",
       "      <td>13480</td>\n",
       "      <td>30923</td>\n",
       "      <td>4</td>\n",
       "      <td>2</td>\n",
       "      <td>37200</td>\n",
       "      <td>6000</td>\n",
       "      <td>117201</td>\n",
       "      <td>-78.440510</td>\n",
       "      <td>38.02277</td>\n",
       "      <td>-1</td>\n",
       "    </tr>\n",
       "    <tr>\n",
       "      <th>3</th>\n",
       "      <td>13480</td>\n",
       "      <td>30923</td>\n",
       "      <td>6</td>\n",
       "      <td>4</td>\n",
       "      <td>44700</td>\n",
       "      <td>1800</td>\n",
       "      <td>118560</td>\n",
       "      <td>-78.515480</td>\n",
       "      <td>38.06175</td>\n",
       "      <td>-1</td>\n",
       "    </tr>\n",
       "    <tr>\n",
       "      <th>4</th>\n",
       "      <td>13480</td>\n",
       "      <td>30923</td>\n",
       "      <td>8</td>\n",
       "      <td>2</td>\n",
       "      <td>47400</td>\n",
       "      <td>17400</td>\n",
       "      <td>117201</td>\n",
       "      <td>-78.440510</td>\n",
       "      <td>38.02277</td>\n",
       "      <td>-1</td>\n",
       "    </tr>\n",
       "  </tbody>\n",
       "</table>\n",
       "</div>"
      ],
      "text/plain": [
       "     hid    pid  activity_number  activity_type  start_time  duration  \\\n",
       "0  13480  30923                0              1           0     25200   \n",
       "1  13480  30923                2              2       27000      7680   \n",
       "2  13480  30923                4              2       37200      6000   \n",
       "3  13480  30923                6              4       44700      1800   \n",
       "4  13480  30923                8              2       47400     17400   \n",
       "\n",
       "       lid  longitude  latitude  travel_mode  \n",
       "0  1018178 -78.435006  38.09230           -1  \n",
       "1   117201 -78.440510  38.02277           -1  \n",
       "2   117201 -78.440510  38.02277           -1  \n",
       "3   118560 -78.515480  38.06175           -1  \n",
       "4   117201 -78.440510  38.02277           -1  "
      ]
     },
     "execution_count": 20,
     "metadata": {},
     "output_type": "execute_result"
    }
   ],
   "source": [
    "filename_albe = \"usa_va_albemarle_adult_activity_location_assignment_week.csv\"\n",
    "df_albe = pd.read_csv(filename_albe)\n",
    "df_albe.head()"
   ]
  },
  {
   "cell_type": "markdown",
   "id": "78307890",
   "metadata": {},
   "source": [
    "### Pipeline"
   ]
  },
  {
   "cell_type": "code",
   "execution_count": 21,
   "id": "df796df5",
   "metadata": {},
   "outputs": [],
   "source": [
    "def read_file(county_name: str):\n",
    "    if county_name!= \"albemarle\" and county_name!=\"charlottesville_city\":\n",
    "        print(\"Invalid County Name\")\n",
    "    else:\n",
    "        filename = f\"usa_va_{county_name}_adult_activity_location_assignment_week.csv\"\n",
    "        df = pd.read_csv(filename)\n",
    "        return df"
   ]
  },
  {
   "cell_type": "code",
   "execution_count": 15,
   "id": "68c4d898",
   "metadata": {},
   "outputs": [
    {
     "name": "stdout",
     "output_type": "stream",
     "text": [
      "<class 'pandas.core.frame.DataFrame'>\n",
      "RangeIndex: 1103750 entries, 0 to 1103749\n",
      "Data columns (total 10 columns):\n",
      " #   Column           Non-Null Count    Dtype  \n",
      "---  ------           --------------    -----  \n",
      " 0   hid              1103750 non-null  int64  \n",
      " 1   pid              1103750 non-null  int64  \n",
      " 2   activity_number  1103750 non-null  int64  \n",
      " 3   activity_type    1103750 non-null  int64  \n",
      " 4   start_time       1103750 non-null  int64  \n",
      " 5   duration         1103750 non-null  int64  \n",
      " 6   lid              1103750 non-null  int64  \n",
      " 7   longitude        1103750 non-null  float64\n",
      " 8   latitude         1103750 non-null  float64\n",
      " 9   travel_mode      1103750 non-null  int64  \n",
      "dtypes: float64(2), int64(8)\n",
      "memory usage: 84.2 MB\n"
     ]
    }
   ],
   "source": [
    "df_full = read_file(\"charlottesville_city\")\n",
    "df_full.info()"
   ]
  },
  {
   "cell_type": "code",
   "execution_count": 22,
   "id": "07fe69e3",
   "metadata": {},
   "outputs": [],
   "source": [
    "def clean_data(df_day: pd.DataFrame):\n",
    "\n",
    "    #drop meaningless columns\n",
    "    \n",
    "    HOME_SHIFT=1000000000\n",
    "\n",
    "    home_activities = df_day[df_day[\"activity_type\"]==1][\"lid\"]\n",
    "    df_day.loc[home_activities.index, \"lid\"] += HOME_SHIFT\n",
    "    \n",
    "    return df_day"
   ]
  },
  {
   "cell_type": "code",
   "execution_count": 23,
   "id": "efa3c86e",
   "metadata": {},
   "outputs": [],
   "source": [
    "def pid_hour_breakdown(df: pd.DataFrame, day: int, start_hour: int, end_hour: int):\n",
    "    \n",
    "    HR = 3600\n",
    "    \n",
    "    hour_start = day*24*HR + start_hour*HR\n",
    "    hour_end = day*24*HR + end_hour*HR\n",
    "    \n",
    "    df[\"end_time\"] = df[\"start_time\"]+df[\"duration\"]\n",
    "    \n",
    "    df = df[(df[\"start_time\"]<hour_end) & (df[\"end_time\"]>hour_start)].copy()\n",
    "    \n",
    "    df[\"combined_loc\"] = df.apply(lambda x: (int(x[\"lid\"]), (x[\"start_time\"], x[\"end_time\"])), axis=1)\n",
    "    \n",
    "    # Might want to change the format of combined_locations\n",
    "    df_pid = (df.groupby(\"pid\")[\"combined_loc\"].apply(list)).apply(\n",
    "        lambda x: {(i-day*24*HR)//HR: [loc for loc in x if (loc[1][0]<=i and loc[1][1]>=i+HR)] for i in range(hour_start, hour_end, HR)})\n",
    "    \n",
    "    return df_pid.to_frame()"
   ]
  },
  {
   "cell_type": "code",
   "execution_count": 24,
   "id": "55c63118",
   "metadata": {},
   "outputs": [],
   "source": [
    "def get_location_directions(df: pd.DataFrame):\n",
    "    return df[[\"lid\",\"longitude\", \"latitude\"]].groupby(\"lid\").mean().to_dict('index')\n",
    "\n",
    "def find_potential_facilities(df: pd.DataFrame):\n",
    "    return set(df[df[\"activity_type\"]!=1].lid)"
   ]
  },
  {
   "cell_type": "code",
   "execution_count": 25,
   "id": "95320785",
   "metadata": {},
   "outputs": [],
   "source": [
    "def random_filter_location(df:pd.DataFrame, random_state=42):\n",
    "    \n",
    "    df[\"condensed\"] = df[\"combined_loc\"].apply(lambda x: [(h, l[0]) for h, loc in x.items() for l in loc])\n",
    "    df[\"condensed_len\"] = df[\"condensed\"].apply(lambda x: len(x))\n",
    "\n",
    "    # remove clients without any location-hour assignments\n",
    "    df = df.drop(list(df[df[\"condensed_len\"]==0].index))\n",
    "\n",
    "    #df_selected = df[\"condensed\"].apply(lambda x: x[random.randint(0, len(x)-1)])\n",
    "\n",
    "    df[\"selected\"] = df[\"condensed\"].apply(lambda x: x[random.randint(0, len(x)-1)]).to_frame()\n",
    "    df[\"hr\"] = df[\"selected\"].apply(lambda x: x[0])\n",
    "\n",
    "    df[\"pid\"] = df.index\n",
    "\n",
    "    df[\"pid_loc\"] = df[[\"pid\",\"selected\"]].apply(lambda x: (x[\"pid\"], x[\"selected\"][1]), axis = 1)\n",
    "\n",
    "    df_selected = df.groupby(\"hr\")[\"pid_loc\"].apply(list)\n",
    "\n",
    "    return df_selected.to_dict({})"
   ]
  },
  {
   "cell_type": "code",
   "execution_count": 42,
   "id": "2d7fa81b",
   "metadata": {},
   "outputs": [],
   "source": [
    "def random_filter_spread(df:pd.DataFrame, spread = 7, random_state=42):\n",
    "    \n",
    "    random.seed(random_state)\n",
    "    \n",
    "    drop_pids = set(pid for pid in df.pid if random.randint(1, spread) == 1)\n",
    "    print(len(drop_pids))\n",
    "    \n",
    "    df_sparse = df.drop(df[df[\"pid\"].isin(drop_pids)].index, axis = 0)\n",
    "    \n",
    "    print(df_sparse)\n",
    "    \n",
    "    return df_sparse"
   ]
  },
  {
   "cell_type": "code",
   "execution_count": 40,
   "id": "4ab006b9",
   "metadata": {},
   "outputs": [
    {
     "ename": "NameError",
     "evalue": "name 'random_filter' is not defined",
     "output_type": "error",
     "traceback": [
      "\u001b[1;31m---------------------------------------------------------------------------\u001b[0m",
      "\u001b[1;31mNameError\u001b[0m                                 Traceback (most recent call last)",
      "Input \u001b[1;32mIn [40]\u001b[0m, in \u001b[0;36m<cell line: 15>\u001b[1;34m()\u001b[0m\n\u001b[0;32m     11\u001b[0m     pid_assignment \u001b[38;5;241m=\u001b[39m random_filter(df_pid)\n\u001b[0;32m     13\u001b[0m     \u001b[38;5;28;01mreturn\u001b[39;00m potential_facilities, location_directory, pid_assignment\n\u001b[1;32m---> 15\u001b[0m potential_facilities, location_directory, pid_assignment \u001b[38;5;241m=\u001b[39m \u001b[43mget_data\u001b[49m\u001b[43m(\u001b[49m\u001b[38;5;124;43m\"\u001b[39;49m\u001b[38;5;124;43mcharlottesville_city\u001b[39;49m\u001b[38;5;124;43m\"\u001b[39;49m\u001b[43m,\u001b[49m\u001b[43m \u001b[49m\u001b[38;5;241;43m5\u001b[39;49m\u001b[43m,\u001b[49m\u001b[43m \u001b[49m\u001b[38;5;241;43m6\u001b[39;49m\u001b[43m,\u001b[49m\u001b[43m \u001b[49m\u001b[38;5;241;43m20\u001b[39;49m\u001b[43m)\u001b[49m\n\u001b[0;32m     17\u001b[0m \u001b[38;5;28mprint\u001b[39m(\u001b[38;5;28mlen\u001b[39m(potential_facilities), \u001b[38;5;28mlen\u001b[39m(location_directory), \u001b[38;5;28mlen\u001b[39m(pid_assignment))\n",
      "Input \u001b[1;32mIn [40]\u001b[0m, in \u001b[0;36mget_data\u001b[1;34m(county_name, day, start_hour, end_hour)\u001b[0m\n\u001b[0;32m      8\u001b[0m location_directory \u001b[38;5;241m=\u001b[39m get_location_directions(df_clean)\n\u001b[0;32m     10\u001b[0m df_pid \u001b[38;5;241m=\u001b[39m pid_hour_breakdown(df_clean, day, start_hour, end_hour)\n\u001b[1;32m---> 11\u001b[0m pid_assignment \u001b[38;5;241m=\u001b[39m \u001b[43mrandom_filter\u001b[49m(df_pid)\n\u001b[0;32m     13\u001b[0m \u001b[38;5;28;01mreturn\u001b[39;00m potential_facilities, location_directory, pid_assignment\n",
      "\u001b[1;31mNameError\u001b[0m: name 'random_filter' is not defined"
     ]
    }
   ],
   "source": [
    "def get_data(county_name: str, day:int, start_hour: int, end_hour: int):\n",
    "\n",
    "    df_full = read_file(county_name)\n",
    "    df_clean = clean_data(df_full)\n",
    "\n",
    "    # Must be separate since some of the activity locations are recorded as home visitations (but are not potential facility locations)\n",
    "    potential_facilities = find_potential_facilities(df_clean)\n",
    "    location_directory = get_location_directions(df_clean)\n",
    "\n",
    "    df_pid = pid_hour_breakdown(df_clean, day, start_hour, end_hour)\n",
    "    pid_assignment = random_filter(df_pid)\n",
    "\n",
    "    return potential_facilities, location_directory, pid_assignment\n",
    "\n",
    "potential_facilities, location_directory, pid_assignment = get_data(\"charlottesville_city\", 5, 6, 20)\n",
    "\n",
    "print(len(potential_facilities), len(location_directory), len(pid_assignment))"
   ]
  },
  {
   "cell_type": "code",
   "execution_count": 44,
   "id": "289a27c8",
   "metadata": {},
   "outputs": [
    {
     "name": "stdout",
     "output_type": "stream",
     "text": [
      "32682\n",
      "             hid      pid  activity_number  activity_type  start_time  \\\n",
      "2159     2208287  5586663                0              1           0   \n",
      "2160     2208287  5586663                2              4       43500   \n",
      "2161     2208287  5586663                4              1       50700   \n",
      "2162     2208287  5586663                5              1      100800   \n",
      "2163     2208287  5586663                7              4      158400   \n",
      "...          ...      ...              ...            ...         ...   \n",
      "1103660  2226626  5627699               29              1      446400   \n",
      "1103661  2226626  5627699               31              3      472500   \n",
      "1103662  2226626  5627699               33              3      475260   \n",
      "1103663  2226626  5627699               35              1      477480   \n",
      "1103664  2226626  5627699               36              1      532800   \n",
      "\n",
      "         duration         lid  longitude   latitude  travel_mode  \n",
      "2159        43200  1001308403 -78.482770  38.044454           -1  \n",
      "2160         6900       89937 -78.420070  38.164700           -1  \n",
      "2161        50100  1001308403 -78.482770  38.044454           -1  \n",
      "2162        53340  1001308403 -78.482770  38.044454           -1  \n",
      "2163        28800      125016 -78.500440  38.034390           -1  \n",
      "...           ...         ...        ...        ...          ...  \n",
      "1103660     25500  1000491322 -78.469492  38.038746           -1  \n",
      "1103661      2400       17995 -78.490870  38.038190           -1  \n",
      "1103662      1440       69113 -78.448350  38.033050           -1  \n",
      "1103663     55320  1000491322 -78.469492  38.038746           -1  \n",
      "1103664     72000  1000491322 -78.469492  38.038746           -1  \n",
      "\n",
      "[10806 rows x 10 columns]\n"
     ]
    }
   ],
   "source": [
    "county_name = \"charlottesville_city\"\n",
    "day = 5\n",
    "start_hour = 6\n",
    "end_hour = 20\n",
    "\n",
    "df_full = read_file(county_name)\n",
    "df_clean = clean_data(df_full)\n",
    "\n",
    "potential_facilities = find_potential_facilities(df_clean)\n",
    "location_directory = get_location_directions(df_clean)\n",
    "\n",
    "df_sparse = random_filter_spread(df_clean)\n",
    "df_pid = pid_hour_breakdown(df_sparse, day, start_hour, end_hour)\n",
    "pid_assignment = random_filter_location(df_pid)\n"
   ]
  },
  {
   "cell_type": "code",
   "execution_count": 46,
   "id": "7397a5e4",
   "metadata": {},
   "outputs": [
    {
     "name": "stdout",
     "output_type": "stream",
     "text": [
      "{6: 40, 7: 33, 8: 36, 9: 35, 10: 45, 11: 30, 12: 28, 13: 31, 14: 30, 15: 28, 16: 30, 17: 36, 18: 29, 19: 43}\n"
     ]
    }
   ],
   "source": [
    "print({key: len(val) for key, val in pid_assignment.items()})"
   ]
  },
  {
   "cell_type": "markdown",
   "id": "6d45feab",
   "metadata": {},
   "source": [
    "## Algorithm"
   ]
  },
  {
   "cell_type": "code",
   "execution_count": 15,
   "id": "e03948a0",
   "metadata": {},
   "outputs": [],
   "source": [
    "import geopy.distance\n",
    "from tqdm import tqdm\n",
    "\n",
    "def calculate_reachable(potential_facilities, location_directory, m: float):\n",
    "    \n",
    "    potential_facilities_list = list(potential_facilities)\n",
    "    reachable_dict = {}\n",
    "        \n",
    "    for p in tqdm(range(len(potential_facilities_list))):\n",
    "        for q in range(p, len(potential_facilities_list)):\n",
    "            lid1, lid2 = potential_facilities_list[p], potential_facilities_list[q]\n",
    "            coord1 = (location_directory[lid1][\"latitude\"], location_directions[lid1][\"longitude\"])\n",
    "            coord2 = (location_directory[lid2][\"latitude\"], location_directions[lid2][\"longitude\"])\n",
    "            dist = geopy.distance.great_circle(coord1, coord2).km\n",
    "            \n",
    "            if dist <= m:\n",
    "                if lid1 not in reachable_dict.keys():\n",
    "                    reachable_dict[lid1] = [lid2]\n",
    "                else:\n",
    "                    reachable_dict[lid1].append(lid2)\n",
    "                \n",
    "                if lid2 not in reachable_dict.keys():\n",
    "                    reachable_dict[lid2] = [lid1]\n",
    "                else:\n",
    "                    reachable_dict[lid2].append(lid1)\n",
    "    \n",
    "    return reachable_dict"
   ]
  },
  {
   "cell_type": "code",
   "execution_count": 20,
   "id": "7684baf5",
   "metadata": {},
   "outputs": [
    {
     "name": "stdout",
     "output_type": "stream",
     "text": [
      "9728 19723 14\n"
     ]
    }
   ],
   "source": [
    "def get_data(county_name: str, day:int, start_hour: int, end_hour: int):\n",
    "\n",
    "    df_full = read_file(county_name)\n",
    "    df_clean = clean_data(df_full)\n",
    "\n",
    "    # Must be separate since some of the activity locations are recorded as home visitations (but are not potential facility locations)\n",
    "    potential_facilities = find_potential_facilities(df_clean)\n",
    "    location_directory = get_location_directions(df_clean)\n",
    "\n",
    "    df_pid = pid_hour_breakdown(df_clean, day, start_hour, end_hour)\n",
    "    pid_assignment = random_filter(df_pid)\n",
    "\n",
    "    return potential_facilities, location_directory, pid_assignment\n",
    "\n",
    "potential_facilities, location_directory, pid_assignment = get_data(\"charlottesville_city\", 5, 6, 20)\n",
    "\n",
    "print(len(potential_facilities), len(location_directory), len(pid_assignment))"
   ]
  },
  {
   "cell_type": "code",
   "execution_count": 16,
   "id": "3e4a812f",
   "metadata": {},
   "outputs": [
    {
     "name": "stderr",
     "output_type": "stream",
     "text": [
      "100%|██████████████████████████████████████████████████████████████████████████████| 9728/9728 [28:09<00:00,  5.76it/s]"
     ]
    },
    {
     "name": "stdout",
     "output_type": "stream",
     "text": [
      "1689.5902636051178\n"
     ]
    },
    {
     "name": "stderr",
     "output_type": "stream",
     "text": [
      "\n"
     ]
    }
   ],
   "source": [
    "import time\n",
    "start = time.time()\n",
    "reachable_dict = calculate_reachable(potential_facilities, location_directory, 8)\n",
    "end = time.time()\n",
    "\n",
    "print(end-start)"
   ]
  },
  {
   "cell_type": "code",
   "execution_count": 17,
   "id": "bf340ce0",
   "metadata": {},
   "outputs": [
    {
     "name": "stdout",
     "output_type": "stream",
     "text": [
      "9728\n"
     ]
    }
   ],
   "source": [
    "print(len(reachable_dict.keys()))"
   ]
  },
  {
   "cell_type": "code",
   "execution_count": 18,
   "id": "132f6c82",
   "metadata": {},
   "outputs": [
    {
     "name": "stdout",
     "output_type": "stream",
     "text": [
      "4011\n"
     ]
    }
   ],
   "source": [
    "print(max([len(val) for val in reachable_dict.values()]))"
   ]
  },
  {
   "cell_type": "code",
   "execution_count": 22,
   "id": "8a495468",
   "metadata": {},
   "outputs": [],
   "source": [
    "import json\n",
    "\n",
    "with open(\"reachable.json\", \"w\") as f:\n",
    "    json.dump(reachable_dict, f)"
   ]
  }
 ],
 "metadata": {
  "kernelspec": {
   "display_name": "Python 3 (ipykernel)",
   "language": "python",
   "name": "python3"
  },
  "language_info": {
   "codemirror_mode": {
    "name": "ipython",
    "version": 3
   },
   "file_extension": ".py",
   "mimetype": "text/x-python",
   "name": "python",
   "nbconvert_exporter": "python",
   "pygments_lexer": "ipython3",
   "version": "3.10.4"
  }
 },
 "nbformat": 4,
 "nbformat_minor": 5
}
